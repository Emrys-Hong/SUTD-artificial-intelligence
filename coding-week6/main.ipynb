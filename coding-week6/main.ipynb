{
 "cells": [
  {
   "cell_type": "markdown",
   "metadata": {
    "Collapsed": "false",
    "colab_type": "text",
    "id": "rUbEmuvZJxlI"
   },
   "source": [
    "# PyTorch - homework 2: neural networks\n",
    "\n",
    "-- Prof. Dorien Herremans"
   ]
  },
  {
   "cell_type": "markdown",
   "metadata": {
    "Collapsed": "false",
    "colab_type": "text",
    "id": "efS07mO7J6AR"
   },
   "source": [
    "Please run the whole notebook with your code and submit the `.ipynb` file on eDimension that includes your answers [so after you run it]. "
   ]
  },
  {
   "cell_type": "code",
   "execution_count": 2,
   "metadata": {
    "Collapsed": "false",
    "colab": {
     "base_uri": "https://localhost:8080/",
     "height": 34
    },
    "colab_type": "code",
    "id": "mJpzFaX0J6Zz",
    "outputId": "33e49695-d65f-4948-f0ea-057c6f3ad787"
   },
   "outputs": [
    {
     "name": "stdout",
     "output_type": "stream",
     "text": [
      "\u001b[31mHomework by Hong Pengfei, number: 1002949\u001b[0m\n"
     ]
    }
   ],
   "source": [
    "from termcolor import colored\n",
    "\n",
    "student_number=\"1002949\"\n",
    "student_name=\"Hong Pengfei\"\n",
    "\n",
    "print(colored(\"Homework by \"  + student_name + ', number: ' + student_number,'red'))"
   ]
  },
  {
   "cell_type": "markdown",
   "metadata": {
    "Collapsed": "false",
    "colab_type": "text",
    "id": "-xDkwBg8LKQ_"
   },
   "source": [
    " ## Question 1 -- XOR neural network [3pts]\n",
    "\n",
    "a) Train an (at least) 2-layer neural network that can solve the XOR problem. \n",
    "\n",
    "b) Check the predictions resulting from your model in the second code box below.\n"
   ]
  },
  {
   "cell_type": "code",
   "execution_count": 7,
   "metadata": {
    "Collapsed": "false"
   },
   "outputs": [],
   "source": [
    "import torch\n",
    "import numpy as np"
   ]
  },
  {
   "cell_type": "code",
   "execution_count": 77,
   "metadata": {
    "Collapsed": "false",
    "colab": {},
    "colab_type": "code",
    "id": "BINvhm-PLKak"
   },
   "outputs": [],
   "source": [
    "# load your data\n",
    "X = torch.Tensor([[0,0],[0,1], [1,0], [1,1]])\n",
    "Y = torch.Tensor([0,1,1,0]).view(-1,1)\n",
    "\n",
    "# name your model xor\n",
    "def xor():\n",
    "    return torch.nn.Sequential(torch.nn.Linear(2,2), torch.nn.Sigmoid(), torch.nn.Linear(2,1), torch.nn.Sigmoid())\n",
    "xor = xor()\n",
    "# define your model loss function, optimizer, etc. \n",
    "loss_fn = torch.nn.BCELoss()\n",
    "optimizer = torch.optim.SGD(xor.parameters(), lr=3e0)\n",
    "# train the model\n",
    "for i in range(5000):\n",
    "    loss = loss_fn(xor(X), Y)\n",
    "    optimizer.zero_grad()\n",
    "    loss.backward()\n",
    "    optimizer.step()"
   ]
  },
  {
   "cell_type": "code",
   "execution_count": 79,
   "metadata": {
    "Collapsed": "false",
    "colab": {},
    "colab_type": "code",
    "id": "51Ra1T6n2r_R"
   },
   "outputs": [
    {
     "name": "stdout",
     "output_type": "stream",
     "text": [
      "0 xor 0 = 0\n",
      "0 xor 1 = 1\n",
      "1 xor 1 = 0\n",
      "1 xor 0 = 1\n"
     ]
    }
   ],
   "source": [
    "# test your model using the following functions (make sure the output is printed and saved when you submit this notebook):\n",
    "# depending on how you defined your network you may need to slightly tweek the below prediction function\n",
    "\n",
    "test = [[0,0],[0,1],[1,1],[1,0]]\n",
    "\n",
    "for trial in test: \n",
    "    Xtest = torch.Tensor(trial)\n",
    "    y_hat = xor(Xtest)\n",
    "    print(\"{0} xor {1} = {2}\".format(int(Xtest[0]), int(Xtest[1]), 1 if y_hat > 0.5 else 0))\n"
   ]
  },
  {
   "cell_type": "markdown",
   "metadata": {
    "Collapsed": "false",
    "colab_type": "text",
    "id": "pqIqD5ZzyUOW"
   },
   "source": [
    "## Question 2  [2pts]\n",
    "\n",
    "Imagine a neural network model for a multilabel classification task. \n",
    "\n",
    "a) Which loss function should you use?\n",
    "\n",
    "b) The resulting trained modal has a high variance error. Give 4 possible solutions to improve the model. \n"
   ]
  },
  {
   "cell_type": "markdown",
   "metadata": {
    "Collapsed": "false",
    "colab_type": "text",
    "id": "hzye9G18PQ0c"
   },
   "source": [
    "* answer A\n",
    "  - I would use `BCEWithLogitsLoss` without any activation or `BCELoss` with `sigmoid` activation.\n",
    "* answer B\n",
    "  - 1 Add regularisation\n",
    "  - 2 Features selection to decrease the number of features.\n",
    "  - 3 early stopping\n",
    "  - 4 decrease the model size\n",
    "\n"
   ]
  },
  {
   "cell_type": "markdown",
   "metadata": {
    "Collapsed": "false",
    "colab_type": "text",
    "id": "FcceOSnjjSHf"
   },
   "source": [
    "## Question 3 - Improve hit classification [5pts]\n",
    "\n",
    "Remember the hit predicton dataset from last week? \n",
    "\n",
    "a) Improve the model using a multiplayer perceptron. \n",
    "\n",
    "b) Make sure to run your models on the GPU. \n",
    "\n",
    "c) Tweek the hyperparameters such as number of nodes or layers, or other. Show two possible configurations and explain which works better and very briefly explain why this may be the case. \n",
    "\n",
    "\n"
   ]
  },
  {
   "cell_type": "code",
   "execution_count": 105,
   "metadata": {
    "Collapsed": "false",
    "colab": {},
    "colab_type": "code",
    "id": "t-jkJDTdjSRX"
   },
   "outputs": [
    {
     "data": {
      "text/html": [
       "\n",
       "    <div>\n",
       "        <style>\n",
       "            /* Turns off some styling */\n",
       "            progress {\n",
       "                /* gets rid of default border in Firefox and Opera. */\n",
       "                border: none;\n",
       "                /* Needs to be in here for Safari polyfill so background images work as expected. */\n",
       "                background-size: auto;\n",
       "            }\n",
       "            .progress-bar-interrupted, .progress-bar-interrupted::-webkit-progress-bar {\n",
       "                background: #F44336;\n",
       "            }\n",
       "        </style>\n",
       "      <progress value='656' class='' max='1000' style='width:300px; height:20px; vertical-align: middle;'></progress>\n",
       "      65.60% [656/1000 00:02<00:01]\n",
       "    </div>\n",
       "    "
      ],
      "text/plain": [
       "<IPython.core.display.HTML object>"
      ]
     },
     "metadata": {},
     "output_type": "display_data"
    },
    {
     "name": "stdout",
     "output_type": "stream",
     "text": [
      "epoch: 0 \t train_loss: 0.6721823811531067 \t val_loss: 0.6831036806106567\n",
      "epoch: 100 \t train_loss: 0.6176725625991821 \t val_loss: 0.6781402826309204\n",
      "epoch: 200 \t train_loss: 0.5978724360466003 \t val_loss: 0.6738325953483582\n",
      "epoch: 300 \t train_loss: 0.5811390280723572 \t val_loss: 0.6720290780067444\n",
      "epoch: 400 \t train_loss: 0.5660857558250427 \t val_loss: 0.671325147151947\n",
      "epoch: 500 \t train_loss: 0.551995575428009 \t val_loss: 0.6713421940803528\n",
      "epoch: 600 \t train_loss: 0.538661003112793 \t val_loss: 0.6722189784049988\n",
      "epoch: 700 \t train_loss: 0.5261579751968384 \t val_loss: 0.6743215322494507\n",
      "Early Stopping\n"
     ]
    },
    {
     "data": {
      "text/plain": [
       "<All keys matched successfully>"
      ]
     },
     "execution_count": 105,
     "metadata": {},
     "output_type": "execute_result"
    }
   ],
   "source": [
    "# code your model 1\n",
    "# Your code here\n",
    "import torch\n",
    "import pandas as pd, numpy as np\n",
    "from sklearn.model_selection import train_test_split\n",
    "from fastprogress import progress_bar\n",
    "# load data\n",
    "ds_trn = pd.read_csv(\"https://dorax.s3.ap-south-1.amazonaws.com/herremans_hit_1030training.csv\")\n",
    "ds_trn, ds_val = train_test_split(ds_trn.values, test_size=0.3)\n",
    "x_trn, y_trn = torch.Tensor(ds_trn[:,:-1]).cuda(), torch.Tensor(ds_trn[:,-1]).cuda()\n",
    "x_val, y_val = torch.Tensor(ds_val[:,:-1]).cuda(), torch.Tensor(ds_val[:,-1]).cuda()\n",
    "\n",
    "# define logistic regression model\n",
    "hid_dim = input_dim = len(x_trn[0])\n",
    "model1 = torch.nn.Sequential(torch.nn.Linear(input_dim, hid_dim*8), torch.nn.Sigmoid(), torch.nn.Linear(hid_dim*8, 1), torch.nn.Sigmoid()).cuda()\n",
    "loss_fn = torch.nn.BCELoss(); optimizer = torch.optim.Adam(model1.parameters(), lr=5e-5)\n",
    "# train model\n",
    "\n",
    "\n",
    "def train(model):\n",
    "    epoch = 1000\n",
    "    best_loss = np.inf\n",
    "    patient = 0\n",
    "    for i in progress_bar(range(epoch)):\n",
    "        y_pred = model(x_trn)\n",
    "        loss = loss_fn(y_pred, y_trn.unsqueeze(1))\n",
    "        optimizer.zero_grad()\n",
    "        loss.backward()\n",
    "        optimizer.step()\n",
    "        if i % 100 == 0:\n",
    "            val_loss = torch.nn.BCELoss()(model(x_val), y_val.unsqueeze(1))\n",
    "            print(f\"epoch: {i} \\t train_loss: {loss.data} \\t val_loss: {val_loss}\")\n",
    "            if val_loss < best_loss:\n",
    "                best_loss = val_loss\n",
    "                from copy import deepcopy\n",
    "                best_params = deepcopy(model.state_dict())\n",
    "            else:\n",
    "                patient += 1\n",
    "            if patient > 2: print(\"Early Stopping\"); break\n",
    "    return best_params\n",
    "\n",
    "best_params = train(model1)\n",
    "model1.load_state_dict(best_params)"
   ]
  },
  {
   "cell_type": "code",
   "execution_count": 106,
   "metadata": {
    "Collapsed": "false",
    "colab": {},
    "colab_type": "code",
    "id": "UIDPTKcFkETc"
   },
   "outputs": [
    {
     "name": "stdout",
     "output_type": "stream",
     "text": [
      "True Positives: 46, True Negatives: 10\n",
      "False Positives: 19, False Negatives: 4\n",
      "Class specific accuracy of correctly predicting a hit song is 0.92\n"
     ]
    }
   ],
   "source": [
    "# evaluate model 1 (called model1 here)\n",
    "\n",
    "\n",
    "import pandas as pd \n",
    "\n",
    "def run_evaluation(my_model):\n",
    "\n",
    "  test = pd.read_csv('https://dorax.s3.ap-south-1.amazonaws.com/herremans_hit_1030test.csv')\n",
    "  labels = test.iloc[:,-1]\n",
    "  test = test.drop('Topclass1030', axis=1)\n",
    "  testdata = torch.Tensor(test.values)\n",
    "  testlabels = torch.Tensor(labels.values).view(-1,1)\n",
    "\n",
    "  TP = 0\n",
    "  TN = 0\n",
    "  FN = 0\n",
    "  FP = 0\n",
    "\n",
    "  for i in range(0, testdata.size()[0]): \n",
    "    # print(testdata[i].size())\n",
    "    Xtest = torch.Tensor(testdata[i])\n",
    "    y_hat = my_model(Xtest)\n",
    "    \n",
    "    if y_hat > 0.5:\n",
    "      prediction = 1\n",
    "    else: \n",
    "      prediction = 0\n",
    "\n",
    "    if (prediction == testlabels[i]):\n",
    "      if (prediction == 1):\n",
    "        TP += 1\n",
    "      else: \n",
    "        TN += 1\n",
    "\n",
    "    else:\n",
    "      if (prediction == 1):\n",
    "        FP += 1\n",
    "      else: \n",
    "        FN += 1\n",
    "\n",
    "  print(\"True Positives: {0}, True Negatives: {1}\".format(TP, TN))\n",
    "  print(\"False Positives: {0}, False Negatives: {1}\".format(FP, FN))\n",
    "  rate = TP/(FN+TP)\n",
    "  print(\"Class specific accuracy of correctly predicting a hit song is {0}\".format(rate))\n",
    "\n",
    "run_evaluation(model1.cpu())"
   ]
  },
  {
   "cell_type": "code",
   "execution_count": 99,
   "metadata": {
    "Collapsed": "false",
    "colab": {},
    "colab_type": "code",
    "id": "xghPDDNmkHn2"
   },
   "outputs": [
    {
     "data": {
      "text/html": [
       "\n",
       "    <div>\n",
       "        <style>\n",
       "            /* Turns off some styling */\n",
       "            progress {\n",
       "                /* gets rid of default border in Firefox and Opera. */\n",
       "                border: none;\n",
       "                /* Needs to be in here for Safari polyfill so background images work as expected. */\n",
       "                background-size: auto;\n",
       "            }\n",
       "            .progress-bar-interrupted, .progress-bar-interrupted::-webkit-progress-bar {\n",
       "                background: #F44336;\n",
       "            }\n",
       "        </style>\n",
       "      <progress value='1000' class='' max='1000' style='width:300px; height:20px; vertical-align: middle;'></progress>\n",
       "      100.00% [1000/1000 00:04<00:00]\n",
       "    </div>\n",
       "    "
      ],
      "text/plain": [
       "<IPython.core.display.HTML object>"
      ]
     },
     "metadata": {},
     "output_type": "display_data"
    },
    {
     "name": "stdout",
     "output_type": "stream",
     "text": [
      "epoch: 0 \t train_loss: 0.6782657504081726 \t val_loss: 0.6830390691757202\n",
      "epoch: 100 \t train_loss: 0.6776914596557617 \t val_loss: 0.6826098561286926\n",
      "epoch: 200 \t train_loss: 0.6771224141120911 \t val_loss: 0.6821855902671814\n",
      "epoch: 300 \t train_loss: 0.6765583753585815 \t val_loss: 0.6817662119865417\n",
      "epoch: 400 \t train_loss: 0.6759992241859436 \t val_loss: 0.6813516020774841\n",
      "epoch: 500 \t train_loss: 0.675445020198822 \t val_loss: 0.6809414625167847\n",
      "epoch: 600 \t train_loss: 0.674895703792572 \t val_loss: 0.6805360913276672\n",
      "epoch: 700 \t train_loss: 0.6743513345718384 \t val_loss: 0.6801351308822632\n",
      "epoch: 800 \t train_loss: 0.6738115549087524 \t val_loss: 0.6797382831573486\n",
      "epoch: 900 \t train_loss: 0.6732765436172485 \t val_loss: 0.6793458461761475\n"
     ]
    },
    {
     "data": {
      "text/plain": [
       "<All keys matched successfully>"
      ]
     },
     "execution_count": 99,
     "metadata": {},
     "output_type": "execute_result"
    }
   ],
   "source": [
    "# code your model 2\n",
    "hid_dim = input_dim = len(x_trn[0])\n",
    "model2 = torch.nn.Sequential(torch.nn.Linear(input_dim, hid_dim//4), torch.nn.Sigmoid(), \n",
    "                             torch.nn.Linear(hid_dim//4, hid_dim//16), torch.nn.Sigmoid(), \n",
    "                             torch.nn.Linear(hid_dim//16, 1), torch.nn.Sigmoid()).cuda()\n",
    "optimizer = torch.optim.Adam(model2.parameters(), lr=1e-5)\n",
    "best_params = train(model2)\n",
    "model2.load_state_dict(best_params)"
   ]
  },
  {
   "cell_type": "code",
   "execution_count": 100,
   "metadata": {
    "Collapsed": "false",
    "colab": {},
    "colab_type": "code",
    "id": "wAIifiHJkHyW"
   },
   "outputs": [
    {
     "name": "stdout",
     "output_type": "stream",
     "text": [
      "True Positives: 50, True Negatives: 0\n",
      "False Positives: 29, False Negatives: 0\n",
      "Class specific accuracy of correctly predicting a hit song is 1.0\n"
     ]
    }
   ],
   "source": [
    "# evaluate model 2 (called model2 here)\n",
    "run_evaluation(model2.cpu())"
   ]
  },
  {
   "cell_type": "markdown",
   "metadata": {
    "Collapsed": "false",
    "colab_type": "text",
    "id": "QPsxbT0KkGs1"
   },
   "source": [
    "Which works better and why do you think this may be (very briefly)? \n"
   ]
  },
  {
   "cell_type": "markdown",
   "metadata": {
    "Collapsed": "false",
    "colab_type": "text",
    "id": "6GzjI77HkSwH"
   },
   "source": [
    "**[your answer here, also please summarise the differences between your two models]**\n",
    "- The first model is a 2 layered flat model with 8 times bigger hidden units, so the model is likely to overfit to the dataset since it has so many hidden units.\n",
    "- The second model is a 3 layered deep model with decreasing 4 times hidden units, so the model is likely to learn the high level interactions between music features while not overfitting too much, that's probably why it have better performance."
   ]
  },
  {
   "cell_type": "markdown",
   "metadata": {
    "Collapsed": "false",
    "colab_type": "text",
    "id": "Hh5O8qS_khug"
   },
   "source": [
    "Additionally, submit your results [here](https://forms.gle/NtJJEE7Wm5ZRM3Je7) for 'Class specific accuracy of correctly predicting a hit song' and see if you got the best performance of the class! Good luck!"
   ]
  }
 ],
 "metadata": {
  "colab": {
   "collapsed_sections": [],
   "name": "AI homework 2 - neural networks.ipynb",
   "provenance": []
  },
  "kernelspec": {
   "display_name": "Python 3",
   "language": "python",
   "name": "python3"
  },
  "language_info": {
   "codemirror_mode": {
    "name": "ipython",
    "version": 3
   },
   "file_extension": ".py",
   "mimetype": "text/x-python",
   "name": "python",
   "nbconvert_exporter": "python",
   "pygments_lexer": "ipython3",
   "version": "3.7.6"
  }
 },
 "nbformat": 4,
 "nbformat_minor": 4
}
