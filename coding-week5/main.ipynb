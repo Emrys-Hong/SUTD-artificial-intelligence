{
 "cells": [
  {
   "cell_type": "markdown",
   "metadata": {
    "Collapsed": "false",
    "colab_type": "text",
    "id": "rUbEmuvZJxlI"
   },
   "source": [
    "# PyTorch - homework 1\n"
   ]
  },
  {
   "cell_type": "markdown",
   "metadata": {
    "Collapsed": "false",
    "colab_type": "text",
    "id": "efS07mO7J6AR"
   },
   "source": [
    "Please run the whole notebook with your code and submit the `.ipynb` file that includes your answers. "
   ]
  },
  {
   "cell_type": "code",
   "execution_count": 1,
   "metadata": {
    "Collapsed": "false",
    "colab": {
     "base_uri": "https://localhost:8080/",
     "height": 34
    },
    "colab_type": "code",
    "id": "mJpzFaX0J6Zz",
    "outputId": "33e49695-d65f-4948-f0ea-057c6f3ad787"
   },
   "outputs": [
    {
     "name": "stdout",
     "output_type": "stream",
     "text": [
      "\u001b[31mHomework by Hong Pengfei, number: 1002949\u001b[0m\n"
     ]
    }
   ],
   "source": [
    "from termcolor import colored\n",
    "\n",
    "student_number=\"1002949\"\n",
    "student_name=\"Hong Pengfei\"\n",
    "\n",
    "print(colored(\"Homework by \"  + student_name + ', number: ' + student_number,'red'))"
   ]
  },
  {
   "cell_type": "markdown",
   "metadata": {
    "Collapsed": "false",
    "colab_type": "text",
    "id": "-xDkwBg8LKQ_"
   },
   "source": [
    " ## Question 1 -- matrix multiplication\n",
    "\n",
    "Implement the following mathematical operation on both the CPU and GPU (use Google Colab or another cloud service if you don't have a GPU in your computer). Print:\n",
    "\n",
    "a) which type of GPU card you have and \n",
    "\n",
    "b) show the computation time for both CPU and GPU (using PyTorch). \n",
    "\n",
    "c) How much % fast is the GPU? \n",
    "\n",
    " The operation to implement is the dot product $C = B * A^T$\n",
    "\n",
    " whereby $A$ is a random matrix of size $30,000 \\times 1000$ and $B$ is a random matrix of size $3000 \\times 1000$. In addition to the required information asked above:\n",
    " \n",
    " d) please also print the resulting two $C$ matrices (they should be the same btw). \n",
    " \n",
    "\n"
   ]
  },
  {
   "cell_type": "code",
   "execution_count": 2,
   "metadata": {
    "Collapsed": "false",
    "colab": {},
    "colab_type": "code",
    "id": "BINvhm-PLKak"
   },
   "outputs": [
    {
     "name": "stdout",
     "output_type": "stream",
     "text": [
      "\u001b[34ma) GPU card type: fGeForce GTX TITAN X\u001b[0m\n"
     ]
    }
   ],
   "source": [
    "# implement solution here\n",
    "import torch\n",
    "print(colored(f\"a) GPU card type: f{torch.cuda.get_device_name(0)}\", 'blue'))"
   ]
  },
  {
   "cell_type": "code",
   "execution_count": 3,
   "metadata": {
    "Collapsed": "false"
   },
   "outputs": [
    {
     "name": "stdout",
     "output_type": "stream",
     "text": [
      "CPU\n",
      "365 ms ± 105 ms per loop (mean ± std. dev. of 7 runs, 1 loop each)\n",
      "GPU\n",
      "37.9 µs ± 25.1 µs per loop (mean ± std. dev. of 7 runs, 1 loop each)\n"
     ]
    }
   ],
   "source": [
    "A = torch.randn(30_000, 1_000, dtype=torch.float64); B = torch.randn(3_000, 1_000, dtype=torch.float64)\n",
    "print(\"CPU\")\n",
    "%timeit C = B @ A.T\n",
    "C_cpu = B@A.T\n",
    "print(\"GPU\")\n",
    "A = A.cuda(); B = B.cuda()\n",
    "%timeit C = B @ A.T\n",
    "C_cuda = B@A.T"
   ]
  },
  {
   "cell_type": "markdown",
   "metadata": {
    "Collapsed": "false"
   },
   "source": [
    "b)\n",
    "\n",
    "CPU running time: 365ms\n",
    "\n",
    "GPU running time: 37.9 $\\mu$s"
   ]
  },
  {
   "cell_type": "code",
   "execution_count": 4,
   "metadata": {
    "Collapsed": "false"
   },
   "outputs": [
    {
     "name": "stdout",
     "output_type": "stream",
     "text": [
      "c) GPU is 9631.0 faster than CPU\n"
     ]
    }
   ],
   "source": [
    "import numpy as np; print(f\"c) GPU is {np.round(365e-3/37.9e-6)} faster than CPU\")"
   ]
  },
  {
   "cell_type": "code",
   "execution_count": 14,
   "metadata": {
    "Collapsed": "false"
   },
   "outputs": [
    {
     "name": "stdout",
     "output_type": "stream",
     "text": [
      "CPU\n",
      "tensor([[ 26.5482,  32.8680,  61.0703,  ...,  15.0638,  -5.6526, -16.7337],\n",
      "        [ 15.7892,   7.0094, -39.8665,  ...,  20.9929, -19.3506,  58.0912],\n",
      "        [ 20.1616, -34.0288,  -9.1990,  ..., -17.1027,  19.2191, -13.3171],\n",
      "        ...,\n",
      "        [-20.8380, -47.9716, -38.1586,  ...,  18.0809, -20.0048,  33.7353],\n",
      "        [  5.8443, -41.5327,   0.9640,  ...,  -0.4082,   9.2285, -15.4392],\n",
      "        [-38.9589,  59.0055,  19.9296,  ..., -17.2140,  -1.6591,  -6.5475]],\n",
      "       dtype=torch.float64)\n",
      "================================================================================\n",
      "GPU\n",
      "tensor([[ 26.5482,  32.8680,  61.0703,  ...,  15.0638,  -5.6526, -16.7337],\n",
      "        [ 15.7892,   7.0094, -39.8665,  ...,  20.9929, -19.3506,  58.0912],\n",
      "        [ 20.1616, -34.0288,  -9.1990,  ..., -17.1027,  19.2191, -13.3171],\n",
      "        ...,\n",
      "        [-20.8380, -47.9716, -38.1586,  ...,  18.0809, -20.0048,  33.7353],\n",
      "        [  5.8443, -41.5327,   0.9640,  ...,  -0.4082,   9.2285, -15.4392],\n",
      "        [-38.9589,  59.0055,  19.9296,  ..., -17.2140,  -1.6591,  -6.5475]],\n",
      "       device='cuda:0', dtype=torch.float64)\n",
      "d) they are equal\n"
     ]
    }
   ],
   "source": [
    "print(\"CPU\")\n",
    "print(C_cpu)\n",
    "print('='*80)\n",
    "print(\"GPU\")\n",
    "print(C_cuda)\n",
    "assert (C_cpu.numpy().astype(np.float16) == C_cuda.cpu().numpy().astype(np.float16)).all()\n",
    "print(\"d) they are equal\")"
   ]
  },
  {
   "cell_type": "markdown",
   "metadata": {
    "Collapsed": "false",
    "colab_type": "text",
    "id": "LZJXmfT-yU3g"
   },
   "source": [
    "## Question 2 - grad\n",
    "\n",
    "\n",
    "Find the gradient (partial derivatives) of the function $g(w)$ below. \n",
    "\n",
    "Let  $w=[w_1,w_2]^T$\n",
    "\n",
    "Consider  $g(w)=2w_1w_2+w_2cos(w_1)$\n",
    "\n",
    "a) In PyTorch, compute:   $\\Delta_w g(w)$ \n",
    "\n",
    " and verify that $\\Delta_w g([\\pi,1])=[2,2\\pi−1]^T$ using the grad function, whereby the first position is the partial for $w_1$ and the second position is the partial for $w_2$. \n",
    "\n",
    "b) You can also write a function to manually calculate these partial derivatives! You can review your differential equations math at [here](https://www.wolframalpha.com/input/?i=derivative+y+cos%28x%29) and implement this is a second function below to verify that it comes to the same solution. \n"
   ]
  },
  {
   "cell_type": "code",
   "execution_count": 29,
   "metadata": {
    "Collapsed": "false",
    "colab": {},
    "colab_type": "code",
    "id": "pLjz6_LKt4sc"
   },
   "outputs": [
    {
     "name": "stdout",
     "output_type": "stream",
     "text": [
      "a) gradient using pytorch: [2.    5.283]\n",
      "\t  standard answer: [2, 5.283]\n"
     ]
    }
   ],
   "source": [
    "w = torch.tensor([np.pi, 1], requires_grad=True)\n",
    "def g(w): return 2*w[0]*w[1] + w[1]*torch.cos(w[0])\n",
    "g_w = g(w)\n",
    "g_w.backward()\n",
    "print(f\"a) gradient using pytorch: {np.round(w.grad.data.numpy(), 3)}\")\n",
    "print(f\"\\t  standard answer: {[2, np.round(2*np.pi-1, 3)]}\")"
   ]
  },
  {
   "cell_type": "code",
   "execution_count": 30,
   "metadata": {
    "Collapsed": "false"
   },
   "outputs": [
    {
     "name": "stdout",
     "output_type": "stream",
     "text": [
      "gradient using Wolfram: [tensor(2.), tensor(5.2832)]\n"
     ]
    }
   ],
   "source": [
    "def partial_g(w): return [-(torch.sin(w[0])-2)*w[1], 2*w[0]+torch.cos(w[0])]\n",
    "w = torch.tensor([np.pi, 1])\n",
    "print(f\"gradient using Wolfram: {partial_g(w)}\")"
   ]
  },
  {
   "cell_type": "markdown",
   "metadata": {
    "Collapsed": "false",
    "colab_type": "text",
    "id": "rJwP6ur8LKjD"
   },
   "source": [
    "## Question 3 - dance hit song prediction\n",
    "\n",
    "Implement logistic regression in PyTorch for the following dance hit song prediction training dataset: \n",
    "https://dorax.s3.ap-south-1.amazonaws.com/herremans_hit_1030training.csv\n",
    "\n",
    " * Input variables: a number of audio features (most already standardized so don't worry about that)\n",
    " * Target variable: Topclass1030: \n",
    "   * 1 means it was a top 10 hit song; \n",
    "   * 0 means it never went above top 30 position.\n",
    "\n",
    "This dataset is derived from my paper on dance hit song prediction, for full description of features have a look at https://arxiv.org/abs/1905.08076. \n",
    "\n",
    "Print the evolution of the loss every few epochs and train the model until it converges. \n",
    " \n",
    " After training the logistic regression model, calculate the prediction accuracy on the test set: \n",
    " https://dorax.s3.ap-south-1.amazonaws.com/herremans_hit_1030test.csv\n",
    "\n",
    "\n",
    "\n",
    "\n",
    "\n",
    "\n"
   ]
  },
  {
   "cell_type": "code",
   "execution_count": 27,
   "metadata": {
    "Collapsed": "false",
    "colab": {},
    "colab_type": "code",
    "id": "VyRP6bl8t4Wc"
   },
   "outputs": [
    {
     "data": {
      "text/html": [
       "\n",
       "    <div>\n",
       "        <style>\n",
       "            /* Turns off some styling */\n",
       "            progress {\n",
       "                /* gets rid of default border in Firefox and Opera. */\n",
       "                border: none;\n",
       "                /* Needs to be in here for Safari polyfill so background images work as expected. */\n",
       "                background-size: auto;\n",
       "            }\n",
       "            .progress-bar-interrupted, .progress-bar-interrupted::-webkit-progress-bar {\n",
       "                background: #F44336;\n",
       "            }\n",
       "        </style>\n",
       "      <progress value='1000' class='' max='1000' style='width:300px; height:20px; vertical-align: middle;'></progress>\n",
       "      100.00% [1000/1000 00:02<00:00]\n",
       "    </div>\n",
       "    "
      ],
      "text/plain": [
       "<IPython.core.display.HTML object>"
      ]
     },
     "metadata": {},
     "output_type": "display_data"
    },
    {
     "name": "stdout",
     "output_type": "stream",
     "text": [
      "epoch: 0 \t train_loss: 0.70167475938797 \t val_loss: 0.68543541431427\n",
      "epoch: 100 \t train_loss: 0.6786022186279297 \t val_loss: 0.6548535227775574\n",
      "epoch: 200 \t train_loss: 0.6609829068183899 \t val_loss: 0.6341501474380493\n",
      "epoch: 300 \t train_loss: 0.6470436453819275 \t val_loss: 0.6193217635154724\n",
      "epoch: 400 \t train_loss: 0.6357281804084778 \t val_loss: 0.608698308467865\n",
      "epoch: 500 \t train_loss: 0.6262457966804504 \t val_loss: 0.6012091636657715\n",
      "epoch: 600 \t train_loss: 0.618064284324646 \t val_loss: 0.5959230065345764\n",
      "epoch: 700 \t train_loss: 0.6108546853065491 \t val_loss: 0.5920870900154114\n",
      "epoch: 800 \t train_loss: 0.6044106483459473 \t val_loss: 0.5891606211662292\n",
      "epoch: 900 \t train_loss: 0.598591685295105 \t val_loss: 0.5867881178855896\n"
     ]
    },
    {
     "data": {
      "text/plain": [
       "<All keys matched successfully>"
      ]
     },
     "execution_count": 27,
     "metadata": {},
     "output_type": "execute_result"
    }
   ],
   "source": [
    "# Your code here\n",
    "import torch\n",
    "import pandas as pd, numpy as np\n",
    "from sklearn.model_selection import train_test_split\n",
    "from fastprogress import progress_bar\n",
    "# load data\n",
    "ds_trn = pd.read_csv(\"https://dorax.s3.ap-south-1.amazonaws.com/herremans_hit_1030training.csv\")\n",
    "ds_trn, ds_val = train_test_split(ds_trn.values, test_size=0.3)\n",
    "x_trn, y_trn = torch.Tensor(ds_trn[:,:-1]).cuda(), torch.Tensor(ds_trn[:,-1]).cuda()\n",
    "x_val, y_val = torch.Tensor(ds_val[:,:-1]).cuda(), torch.Tensor(ds_val[:,-1]).cuda()\n",
    "\n",
    "# define logistic regression model\n",
    "logreg_clf = torch.nn.Sequential(torch.nn.Linear(len(x_trn[0]), 1), torch.nn.Sigmoid()).cuda()\n",
    "loss_fn = torch.nn.BCELoss(); optimizer = torch.optim.Adam(logreg_clf.parameters(), lr=1e-4)\n",
    "# train model\n",
    "epoch = 1000\n",
    "best_loss = np.inf\n",
    "patient = 0\n",
    "for i in progress_bar(range(epoch)):\n",
    "    y_pred = logreg_clf(x_trn)\n",
    "    loss = loss_fn(y_pred.squeeze(), y_trn)\n",
    "    optimizer.zero_grad()\n",
    "    loss.backward()\n",
    "    optimizer.step()\n",
    "    if i % 100 == 0:\n",
    "        val_loss = torch.nn.BCELoss()(logreg_clf(x_val), y_val.squeeze())\n",
    "        print(f\"epoch: {i} \\t train_loss: {loss.data} \\t val_loss: {val_loss}\")\n",
    "        if val_loss < best_loss:\n",
    "            best_loss = val_loss\n",
    "            from copy import deepcopy\n",
    "            best_params = deepcopy(logreg_clf.state_dict())\n",
    "        else:\n",
    "            patient += 1\n",
    "        if patient > 2: print(\"Early Stopping\"); break\n",
    "logreg_clf.load_state_dict(best_params)"
   ]
  },
  {
   "cell_type": "markdown",
   "metadata": {
    "Collapsed": "false",
    "colab_type": "text",
    "id": "vw4yfGoGuChe"
   },
   "source": [
    "Run the below code to test the accuracy of your model on the training set: "
   ]
  },
  {
   "cell_type": "code",
   "execution_count": 28,
   "metadata": {
    "Collapsed": "false",
    "colab": {},
    "colab_type": "code",
    "id": "L88WmKtMt5gH"
   },
   "outputs": [
    {
     "name": "stdout",
     "output_type": "stream",
     "text": [
      "True Positives: 47, True Negatives: 14\n",
      "False Positives: 15, False Negatives: 3\n",
      "Class specific accuracy of correctly predicting a hit song is 0.94\n"
     ]
    }
   ],
   "source": [
    "import pandas as pd \n",
    "\n",
    "test = pd.read_csv('https://dorax.s3.ap-south-1.amazonaws.com/herremans_hit_1030test.csv')\n",
    "labels = test.iloc[:,-1]\n",
    "test = test.drop('Topclass1030', axis=1)\n",
    "testdata = torch.Tensor(test.values).cuda()\n",
    "testlabels = torch.Tensor(labels.values).view(-1,1).cuda()\n",
    "\n",
    "TP = 0\n",
    "TN = 0\n",
    "FN = 0\n",
    "FP = 0\n",
    "\n",
    "for i in range(0, testdata.size()[0]): \n",
    "  # print(testdata[i].size())\n",
    "    Xtest = testdata[i]\n",
    "    y_hat = logreg_clf(Xtest)\n",
    "  \n",
    "    if y_hat > 0.5:\n",
    "        prediction = 1\n",
    "    else: \n",
    "        prediction = 0\n",
    "\n",
    "    if (prediction == testlabels[i]):\n",
    "        if (prediction == 1):\n",
    "            TP += 1\n",
    "        else: \n",
    "            TN += 1\n",
    "\n",
    "    else:\n",
    "        if (prediction == 1):\n",
    "            FP += 1\n",
    "        else: \n",
    "            FN += 1\n",
    "\n",
    "print(\"True Positives: {0}, True Negatives: {1}\".format(TP, TN))\n",
    "print(\"False Positives: {0}, False Negatives: {1}\".format(FP, FN))\n",
    "rate = TP/(FN+TP)\n",
    "print(\"Class specific accuracy of correctly predicting a hit song is {0}\".format(rate))"
   ]
  },
  {
   "cell_type": "code",
   "execution_count": null,
   "metadata": {
    "Collapsed": "false"
   },
   "outputs": [],
   "source": []
  }
 ],
 "metadata": {
  "accelerator": "GPU",
  "colab": {
   "collapsed_sections": [],
   "name": "AI homework 1 - torch intro",
   "provenance": [],
   "toc_visible": true
  },
  "kernelspec": {
   "display_name": "Python 3",
   "language": "python",
   "name": "python3"
  },
  "language_info": {
   "codemirror_mode": {
    "name": "ipython",
    "version": 3
   },
   "file_extension": ".py",
   "mimetype": "text/x-python",
   "name": "python",
   "nbconvert_exporter": "python",
   "pygments_lexer": "ipython3",
   "version": "3.7.6"
  }
 },
 "nbformat": 4,
 "nbformat_minor": 4
}
