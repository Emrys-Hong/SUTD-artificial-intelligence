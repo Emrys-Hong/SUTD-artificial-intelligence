{
 "cells": [
  {
   "cell_type": "markdown",
   "metadata": {
    "Collapsed": "false",
    "colab_type": "text",
    "id": "3NAyKlyGxHT9"
   },
   "source": [
    "# PyTorch Tutorial - Tensors, grad, and logistic regression\n",
    "\n",
    "Many thanks to Nelson Lui for the base text. "
   ]
  },
  {
   "cell_type": "markdown",
   "metadata": {
    "Collapsed": "false",
    "colab_type": "text",
    "id": "oZnM_yfCBz6P"
   },
   "source": [
    "**To edit the notebook**:\n",
    "\n",
    "There are two ways to edit the notebook.\n",
    "\n",
    "You can either open it in the \"playground\", where you can change and run cells. After closing the tab, your changes will be lost. To do so, press \"File\" > \"Open in playground\".\n",
    "\n",
    "Alternatively, you can make a copy of this notebook to your own Google Drive account through \"File\" > \"Save a copy in Drive...\""
   ]
  },
  {
   "cell_type": "markdown",
   "metadata": {
    "Collapsed": "false",
    "colab_type": "text",
    "id": "kK-sJIRG6BLp"
   },
   "source": [
    "**Activating the GPU on Colab**:\n",
    "\n",
    "Colab now gives you 12 hours of free GPU time (before you have to request a new node).\n",
    "Simply select \"GPU\" in the Accelerator drop-down in Notebook Settings (either through the Edit menu or the command palette at cmd/ctrl-shift-P)."
   ]
  },
  {
   "cell_type": "markdown",
   "metadata": {
    "Collapsed": "false",
    "colab_type": "text",
    "id": "mgs23T03xBK7"
   },
   "source": [
    "# Setting up the notebook on colab\n",
    "\n",
    "Let's check if we are using the GPU environment and cuda is installed: "
   ]
  },
  {
   "cell_type": "code",
   "execution_count": 1,
   "metadata": {
    "Collapsed": "false",
    "colab": {
     "base_uri": "https://localhost:8080/",
     "height": 85
    },
    "colab_type": "code",
    "id": "kig3C9d9D-kA",
    "outputId": "2ce97f4d-20e1-4991-e1c7-4e78bc54131c"
   },
   "outputs": [
    {
     "name": "stdout",
     "output_type": "stream",
     "text": [
      "PyTorch version:\n",
      "1.4.0\n",
      "GPU Detected:\n",
      "True\n"
     ]
    }
   ],
   "source": [
    "# Import PyTorch and other libraries\n",
    "import torch\n",
    "import numpy as np\n",
    "from tqdm import tqdm\n",
    "\n",
    "print(\"PyTorch version:\")\n",
    "print(torch.__version__)\n",
    "print(\"GPU Detected:\")\n",
    "print(torch.cuda.is_available())"
   ]
  },
  {
   "cell_type": "markdown",
   "metadata": {
    "Collapsed": "false",
    "colab_type": "text",
    "id": "gAQvK5xHFe5I"
   },
   "source": [
    "# What is PyTorch?\n",
    "\n",
    "PyTorch is a deep learning package for building dynamic computation graphs.\n",
    "\n",
    "More broadly, it's a GPU-compatible replacement for NumPy. You can think of it as NumPy + auto-differentiation."
   ]
  },
  {
   "cell_type": "markdown",
   "metadata": {
    "Collapsed": "false",
    "colab_type": "text",
    "id": "O02f3GJILvwJ"
   },
   "source": [
    "# Basic Mechanics\n",
    "\n",
    "If you are interested in basic operations, please go through the official PyTorch tutorial on tensors here: https://pytorch.org/tutorials/beginner/blitz/tensor_tutorial.html#sphx-glr-beginner-blitz-tensor-tutorial-py"
   ]
  },
  {
   "cell_type": "markdown",
   "metadata": {
    "Collapsed": "false",
    "colab_type": "text",
    "id": "Jf9cLN-1GCao"
   },
   "source": [
    "## Tensors\n",
    "The `Tensor` type is essentially a NumPy `ndarray`. However, `Tensors` can critically be moved to the GPU for accelerated computing.\n",
    "\n",
    "There are several types of `Tensors`, each of which correspond to a NumPy `dtype` and whether it is on the CPU or GPU.\n",
    "\n",
    "The main ones you will probably use are:\n",
    "\n",
    "| Data Type | CPU Tensor Type | GPU Tensor Type | NumPy dtype\n",
    "| --- | --- | --- | --- | \n",
    "| 32-bit floating point | `torch.FloatTensor` | `torch.cuda.FloatTensor` | `float32` |\n",
    "| 8-bit integer (unsigned) | `torch.ByteTensor` | `torch.cuda.ByteTensor` | `uint8` |\n",
    "| 64-bit integer (signed)  | `torch.LongTensor` | `torch.cuda.LongTensor` | `int64` |\n",
    "\n",
    "In general, you want to use `FloatTensor` by default, unless your data is specifically an integer (in which case you'd use a `LongTensor`) or your data is bits (you'd want to use `ByteTensor`).\n",
    "\n",
    "You can find a full list of tensor types [here](http://pytorch.org/docs/master/tensors.html)."
   ]
  },
  {
   "cell_type": "markdown",
   "metadata": {
    "Collapsed": "false",
    "colab_type": "text",
    "id": "YTQXFp7sGSYE"
   },
   "source": [
    "To construct a uninitialized 4x6 matrix (think `malloc` for those of you familar with `C` language, so not guaranteed to be all `0`), we can use:"
   ]
  },
  {
   "cell_type": "code",
   "execution_count": 2,
   "metadata": {
    "Collapsed": "false",
    "colab": {
     "base_uri": "https://localhost:8080/",
     "height": 119
    },
    "colab_type": "code",
    "id": "YXpJJ0xfGQN1",
    "outputId": "619c39f7-1916-4aca-8a95-cd1fca6eeb6b"
   },
   "outputs": [
    {
     "name": "stdout",
     "output_type": "stream",
     "text": [
      "tensor([[0., 0., 0., 0., 0., 0.],\n",
      "        [0., 0., 0., 0., 0., 0.],\n",
      "        [0., 0., 0., 0., 0., 0.],\n",
      "        [0., 0., 0., 0., 0., 0.]])\n",
      "Type of above Tensor (it's also printed when you print the tensor):\n",
      "<class 'torch.Tensor'>\n"
     ]
    }
   ],
   "source": [
    "# Note that torch.Tensor is short for torch.FloatTensor\n",
    "uninit_float = torch.Tensor(4, 6)\n",
    "print(uninit_float)\n",
    "print(\"Type of above Tensor (it's also printed when you print the tensor):\")\n",
    "print(type(uninit_float))"
   ]
  },
  {
   "cell_type": "markdown",
   "metadata": {
    "Collapsed": "false",
    "colab_type": "text",
    "id": "NuWOtvMQXvQH"
   },
   "source": [
    "We can also create Tensors directly from (optionally nested) lists."
   ]
  },
  {
   "cell_type": "code",
   "execution_count": 3,
   "metadata": {
    "Collapsed": "false",
    "colab": {
     "base_uri": "https://localhost:8080/",
     "height": 34
    },
    "colab_type": "code",
    "id": "I_HlWP46XulR",
    "outputId": "d919c502-d9c5-4f8e-cfc8-f7ea968581ee"
   },
   "outputs": [
    {
     "name": "stdout",
     "output_type": "stream",
     "text": [
      "tensor([3.2000, 4.3000, 5.5000])\n"
     ]
    }
   ],
   "source": [
    "some_float_tensor = torch.Tensor([3.2, 4.3, 5.5])\n",
    "print(some_float_tensor)"
   ]
  },
  {
   "cell_type": "markdown",
   "metadata": {
    "Collapsed": "false",
    "colab_type": "text",
    "id": "e11zDwHKIyso"
   },
   "source": [
    "If we want a random uniform initialized `FloatTensor`, we can use `rand`.\n",
    "\n"
   ]
  },
  {
   "cell_type": "code",
   "execution_count": 4,
   "metadata": {
    "Collapsed": "false",
    "colab": {
     "base_uri": "https://localhost:8080/",
     "height": 102
    },
    "colab_type": "code",
    "id": "9ihZMTIQIyHG",
    "outputId": "09df7d84-fee5-442d-cee4-879d0372c3d9"
   },
   "outputs": [
    {
     "name": "stdout",
     "output_type": "stream",
     "text": [
      "tensor([[0.4004, 0.0123, 0.9469, 0.6919, 0.1214, 0.9028],\n",
      "        [0.3061, 0.8133, 0.4841, 0.4167, 0.1710, 0.9123],\n",
      "        [0.9370, 0.4143, 0.1866, 0.0838, 0.2043, 0.8208],\n",
      "        [0.1837, 0.9706, 0.6961, 0.2758, 0.6286, 0.1745]])\n",
      "<class 'torch.Tensor'>\n"
     ]
    }
   ],
   "source": [
    "rand_float = torch.rand(4, 6)\n",
    "print(rand_float)\n",
    "print(type(rand_float))"
   ]
  },
  {
   "cell_type": "markdown",
   "metadata": {
    "Collapsed": "false",
    "colab_type": "text",
    "id": "GJhXiTl8KAAH"
   },
   "source": [
    "Let's print the `shape` of our random tensor. In NumPy / PyTorch / other tensor-manipulation libraries, `shape` refers to the dimensions of the tensor."
   ]
  },
  {
   "cell_type": "code",
   "execution_count": 5,
   "metadata": {
    "Collapsed": "false",
    "colab": {
     "base_uri": "https://localhost:8080/",
     "height": 170
    },
    "colab_type": "code",
    "id": "e7TvFs-9K4Ap",
    "outputId": "39e9e600-4eb8-4153-f66d-539a42502bb2"
   },
   "outputs": [
    {
     "name": "stdout",
     "output_type": "stream",
     "text": [
      "torch.Size([4, 6])\n",
      "<class 'torch.Size'>\n",
      "\n",
      "Is rand_float.size() a tuple?\n",
      "True\n",
      "\n",
      "Size of rand_float dimension 1:\n",
      "4\n",
      "4\n"
     ]
    }
   ],
   "source": [
    "# Get the size of the rand float\n",
    "print(rand_float.size())\n",
    "\n",
    "# What's this weird torch.Size datatype?\n",
    "print(type(rand_float.size()))\n",
    "print()\n",
    "\n",
    "# It's just a tuple!\n",
    "print(\"Is rand_float.size() a tuple?\")\n",
    "print(isinstance(rand_float.size(), tuple))\n",
    "print()\n",
    "\n",
    "# We can even extract specific dimensions.\n",
    "# The two lines below are functionally identical.\n",
    "print(\"Size of rand_float dimension 1:\")\n",
    "print(rand_float.size()[0])\n",
    "print(rand_float.size(0))"
   ]
  },
  {
   "cell_type": "markdown",
   "metadata": {
    "Collapsed": "false",
    "colab_type": "text",
    "id": "Lx_j18ospHiv"
   },
   "source": [
    "## NumPy Bridge\n",
    "\n",
    "It's very easy to convert a NumPy array into a Torch Tensor and vice versa as they will share their underlying memory locations (if the tensor is on CPU). Note that changing one will change the other.\n"
   ]
  },
  {
   "cell_type": "code",
   "execution_count": 6,
   "metadata": {
    "Collapsed": "false",
    "colab": {
     "base_uri": "https://localhost:8080/",
     "height": 51
    },
    "colab_type": "code",
    "id": "POznDR56pWc_",
    "outputId": "815a17f8-1f7b-4770-aea8-483228ded305"
   },
   "outputs": [
    {
     "name": "stdout",
     "output_type": "stream",
     "text": [
      "tensor([1., 1., 1., 1., 1., 1.])\n",
      "[1. 1. 1. 1. 1. 1.]\n"
     ]
    }
   ],
   "source": [
    "a = torch.ones(6)\n",
    "print (a)\n",
    "\n",
    "b = a.numpy()\n",
    "print (b)"
   ]
  },
  {
   "cell_type": "markdown",
   "metadata": {
    "Collapsed": "false",
    "colab_type": "text",
    "id": "56bnT-KqplKG"
   },
   "source": [
    "Notice how they share the same memory: you change 1 and the other changes as well: "
   ]
  },
  {
   "cell_type": "code",
   "execution_count": 7,
   "metadata": {
    "Collapsed": "false",
    "colab": {
     "base_uri": "https://localhost:8080/",
     "height": 51
    },
    "colab_type": "code",
    "id": "XyQnMzvPpowY",
    "outputId": "0f404cf8-cb26-4c93-b7cc-0611a506396c"
   },
   "outputs": [
    {
     "name": "stdout",
     "output_type": "stream",
     "text": [
      "tensor([5., 5., 5., 5., 5., 5.])\n",
      "[5. 5. 5. 5. 5. 5.]\n"
     ]
    }
   ],
   "source": [
    "a.add_(4)\n",
    "print(a)\n",
    "print(b)"
   ]
  },
  {
   "cell_type": "markdown",
   "metadata": {
    "Collapsed": "false",
    "colab_type": "text",
    "id": "zxQTPkDRpxQ7"
   },
   "source": [
    "We can just as easily convert the other way, and once again observe the same memory sharing behaviour: "
   ]
  },
  {
   "cell_type": "code",
   "execution_count": 8,
   "metadata": {
    "Collapsed": "false",
    "colab": {
     "base_uri": "https://localhost:8080/",
     "height": 51
    },
    "colab_type": "code",
    "id": "X1K6CHnkpzsN",
    "outputId": "6a45d2cf-f725-49ef-a344-12e118e45158"
   },
   "outputs": [
    {
     "name": "stdout",
     "output_type": "stream",
     "text": [
      "[2. 2. 2. 2. 2. 2.]\n",
      "tensor([2., 2., 2., 2., 2., 2.], dtype=torch.float64)\n"
     ]
    }
   ],
   "source": [
    "import numpy as np\n",
    "\n",
    "a = np.ones(6)\n",
    "b = torch.from_numpy(a)\n",
    "\n",
    "np.add(a, 1, out=a)\n",
    "print(a)\n",
    "print(b)"
   ]
  },
  {
   "cell_type": "markdown",
   "metadata": {
    "Collapsed": "false",
    "colab_type": "text",
    "id": "7gpjuU8cMhkP"
   },
   "source": [
    "## Operations\n",
    "\n",
    "PyTorch has a huge library of various operations (e.g. indexing, slicing, math, linear algebra, sampling, etc). They're all listed [here](http://pytorch.org/docs/0.3.1/torch.html). We'll experiment with the addition operation below."
   ]
  },
  {
   "cell_type": "markdown",
   "metadata": {
    "Collapsed": "false",
    "colab_type": "text",
    "id": "snlhjN6pPLLs"
   },
   "source": [
    "We can add with the normal Python `+` operator."
   ]
  },
  {
   "cell_type": "code",
   "execution_count": 9,
   "metadata": {
    "Collapsed": "false",
    "colab": {
     "base_uri": "https://localhost:8080/",
     "height": 85
    },
    "colab_type": "code",
    "id": "BSbDAqt1NX3s",
    "outputId": "f2c22ccf-8e34-4d04-ece4-96df43bd6648"
   },
   "outputs": [
    {
     "name": "stdout",
     "output_type": "stream",
     "text": [
      "tensor([[0.8786, 0.9036, 1.5514, 1.0160, 0.8106, 1.4726],\n",
      "        [0.4597, 1.2643, 0.9732, 0.4284, 1.0994, 1.2455],\n",
      "        [1.4194, 0.8154, 0.7209, 0.1876, 0.5329, 0.8954],\n",
      "        [0.2951, 1.3917, 0.8398, 0.6216, 0.9085, 1.1701]])\n"
     ]
    }
   ],
   "source": [
    "other_rand_float = torch.rand(4, 6)\n",
    "# Three ways to add!\n",
    "\n",
    "# Python Operator +\n",
    "print(rand_float + other_rand_float)"
   ]
  },
  {
   "cell_type": "markdown",
   "metadata": {
    "Collapsed": "false",
    "colab_type": "text",
    "id": "nFcboDXrPULm"
   },
   "source": [
    "We can also use the `torch.add` function."
   ]
  },
  {
   "cell_type": "code",
   "execution_count": 10,
   "metadata": {
    "Collapsed": "false",
    "colab": {
     "base_uri": "https://localhost:8080/",
     "height": 85
    },
    "colab_type": "code",
    "id": "CzfAtigCPUUA",
    "outputId": "f0da93b1-7904-4c7c-c981-8a1e9e837100"
   },
   "outputs": [
    {
     "name": "stdout",
     "output_type": "stream",
     "text": [
      "tensor([[0.8786, 0.9036, 1.5514, 1.0160, 0.8106, 1.4726],\n",
      "        [0.4597, 1.2643, 0.9732, 0.4284, 1.0994, 1.2455],\n",
      "        [1.4194, 0.8154, 0.7209, 0.1876, 0.5329, 0.8954],\n",
      "        [0.2951, 1.3917, 0.8398, 0.6216, 0.9085, 1.1701]])\n"
     ]
    }
   ],
   "source": [
    "# torch.add\n",
    "print(torch.add(rand_float, other_rand_float))"
   ]
  },
  {
   "cell_type": "markdown",
   "metadata": {
    "Collapsed": "false",
    "colab_type": "text",
    "id": "NFuv7i7GPUgo"
   },
   "source": [
    "We can also add in-place to `rand_float`. This modifies the `rand_float` tensor. All PyTorch operations that modify in place end with an underscore (\"_\")."
   ]
  },
  {
   "cell_type": "code",
   "execution_count": 11,
   "metadata": {
    "Collapsed": "false",
    "colab": {
     "base_uri": "https://localhost:8080/",
     "height": 85
    },
    "colab_type": "code",
    "id": "2X3Mzao-PUqX",
    "outputId": "2977f13f-bc24-4f7d-bbb9-2b59f7f505ef"
   },
   "outputs": [
    {
     "name": "stdout",
     "output_type": "stream",
     "text": [
      "tensor([[0.8786, 0.9036, 1.5514, 1.0160, 0.8106, 1.4726],\n",
      "        [0.4597, 1.2643, 0.9732, 0.4284, 1.0994, 1.2455],\n",
      "        [1.4194, 0.8154, 0.7209, 0.1876, 0.5329, 0.8954],\n",
      "        [0.2951, 1.3917, 0.8398, 0.6216, 0.9085, 1.1701]])\n"
     ]
    }
   ],
   "source": [
    "# Add in-place to rand_float. This modifies rand_float!\n",
    "rand_float.add_(other_rand_float)\n",
    "print(rand_float)"
   ]
  },
  {
   "cell_type": "markdown",
   "metadata": {
    "Collapsed": "false",
    "colab_type": "text",
    "id": "Ptlr7artP5Pr"
   },
   "source": [
    "## Broadcasting\n",
    "\n",
    "Broadcasting is a construct in NumPy and PyTorch that lets operations apply to tensors of different shapes. Under certain conditions, a smaller tensor can be \"broadcast\" across a bigger one. This is often desirable to do, since the looping happens at the C-level and is _incredibly_ efficient in both speed and memory."
   ]
  },
  {
   "cell_type": "markdown",
   "metadata": {
    "Collapsed": "false",
    "colab_type": "text",
    "id": "LpySOGBqQ-I-"
   },
   "source": [
    "In the example below, `x` has shape `(3,)` and y has shape `(5, 3)`. We can still add them together --- the smaller tensor is automatically added to each row of the larger tensor."
   ]
  },
  {
   "cell_type": "code",
   "execution_count": 12,
   "metadata": {
    "Collapsed": "false",
    "colab": {
     "base_uri": "https://localhost:8080/",
     "height": 204
    },
    "colab_type": "code",
    "id": "7mVSCqooQWzd",
    "outputId": "1c760335-07e4-446b-a14d-01acebf6e8d0"
   },
   "outputs": [
    {
     "name": "stdout",
     "output_type": "stream",
     "text": [
      "tensor([9, 0, 9])\n",
      "tensor([[5, 5, 8],\n",
      "        [1, 1, 8],\n",
      "        [1, 4, 6],\n",
      "        [3, 6, 5],\n",
      "        [8, 1, 4]])\n",
      "tensor([[14,  5, 17],\n",
      "        [10,  1, 17],\n",
      "        [10,  4, 15],\n",
      "        [12,  6, 14],\n",
      "        [17,  1, 13]])\n"
     ]
    }
   ],
   "source": [
    "# Random LongTensors from 0 to 9.\n",
    "x = torch.LongTensor(3).random_(10)\n",
    "y = torch.LongTensor(5, 3).random_(10)\n",
    "\n",
    "print(x)\n",
    "print(y)\n",
    "print(x+y)"
   ]
  },
  {
   "cell_type": "markdown",
   "metadata": {
    "Collapsed": "false",
    "colab_type": "text",
    "id": "fuW86QzX1rbi"
   },
   "source": [
    "**Broadcasting, if used improperly, can also lead to inadvertent bugs**. \n",
    "\n",
    "Consider this example: Say you want to multiply a matrix of shape `(4, 6)` with one of shape `(6, 4)` to get something of shape `(4, 4)`. You might be tempted to use the `*` operator, which is for `elementwise` multiplication. For matrix multiplication, we use either `Tensor.mm` or the `@` operator.\n",
    "\n",
    "However, broadcasting leads to a particularly nasty bug that is hard to detect due to broadcast (this behavior is thankfully being deprecated by PyTorch, hence you will see a bug when you run this in a recent version!)."
   ]
  },
  {
   "cell_type": "code",
   "execution_count": 13,
   "metadata": {
    "Collapsed": "false",
    "colab": {
     "base_uri": "https://localhost:8080/",
     "height": 436
    },
    "colab_type": "code",
    "id": "rNXXI_Ti2OSl",
    "outputId": "4e106172-163f-42cc-aeb5-3b87801b7237"
   },
   "outputs": [
    {
     "name": "stdout",
     "output_type": "stream",
     "text": [
      "x:  tensor([[1, 8, 9, 2, 9, 8],\n",
      "        [7, 3, 8, 3, 8, 2],\n",
      "        [3, 3, 4, 4, 0, 4],\n",
      "        [6, 6, 9, 6, 9, 6]])\n",
      "y:  tensor([[0, 0, 9, 1],\n",
      "        [4, 8, 9, 7],\n",
      "        [8, 5, 5, 5],\n",
      "        [9, 3, 2, 4],\n",
      "        [8, 7, 5, 7],\n",
      "        [4, 7, 4, 6]])\n",
      "x @ y (matrix multiply) :  tensor([[226, 234, 207, 221],\n",
      "        [175, 143, 184, 148],\n",
      "        [ 96,  84,  98,  84],\n",
      "        [246, 216, 234, 216]])\n"
     ]
    },
    {
     "ename": "RuntimeError",
     "evalue": "The size of tensor a (6) must match the size of tensor b (4) at non-singleton dimension 1",
     "output_type": "error",
     "traceback": [
      "\u001b[0;31m---------------------------------------------------------------------------\u001b[0m",
      "\u001b[0;31mRuntimeError\u001b[0m                              Traceback (most recent call last)",
      "\u001b[0;32m<ipython-input-13-85ac7ff08227>\u001b[0m in \u001b[0;36m<module>\u001b[0;34m\u001b[0m\n\u001b[1;32m      9\u001b[0m \u001b[0;34m\u001b[0m\u001b[0m\n\u001b[1;32m     10\u001b[0m \u001b[0;31m# USUALLY UNINTENTIONAL ELEMENTWISE-MULTIPLICATION\u001b[0m\u001b[0;34m\u001b[0m\u001b[0;34m\u001b[0m\u001b[0;34m\u001b[0m\u001b[0m\n\u001b[0;32m---> 11\u001b[0;31m \u001b[0mprint\u001b[0m\u001b[0;34m(\u001b[0m\u001b[0;34m\"x * y (elementwise multiply) : \"\u001b[0m\u001b[0;34m,\u001b[0m \u001b[0mx\u001b[0m \u001b[0;34m*\u001b[0m \u001b[0my\u001b[0m\u001b[0;34m)\u001b[0m\u001b[0;34m\u001b[0m\u001b[0;34m\u001b[0m\u001b[0m\n\u001b[0m",
      "\u001b[0;31mRuntimeError\u001b[0m: The size of tensor a (6) must match the size of tensor b (4) at non-singleton dimension 1"
     ]
    }
   ],
   "source": [
    "x = torch.LongTensor(4, 6).random_(10)  # [4,6]\n",
    "y = torch.LongTensor(6, 4).random_(10)  # [6,4]\n",
    "\n",
    "print(\"x: \", x)\n",
    "print(\"y: \", y)\n",
    "\n",
    "# Matrix multiply\n",
    "print(\"x @ y (matrix multiply) : \", x @ y)\n",
    "\n",
    "# USUALLY UNINTENTIONAL ELEMENTWISE-MULTIPLICATION\n",
    "print(\"x * y (elementwise multiply) : \", x * y)"
   ]
  },
  {
   "cell_type": "markdown",
   "metadata": {
    "Collapsed": "false",
    "colab_type": "text",
    "id": "7KVSYJr622sB"
   },
   "source": [
    "A big part of programming with tensors is keeping track of the expected shapes of your tensors and whether these shapes are actually showing up --- doing so will dramatically reduce the amount of bugs you have."
   ]
  },
  {
   "cell_type": "markdown",
   "metadata": {
    "Collapsed": "false",
    "colab_type": "text",
    "id": "dniKPStURqRd"
   },
   "source": [
    "## Reshaping\n",
    "\n",
    "It's often desirable to reshape a Tensor, maybe to broadcast with something else or to turn it into something that is easier to reason about.\n",
    "We can do that with the `.view` function."
   ]
  },
  {
   "cell_type": "code",
   "execution_count": 14,
   "metadata": {
    "Collapsed": "false",
    "colab": {
     "base_uri": "https://localhost:8080/",
     "height": 272
    },
    "colab_type": "code",
    "id": "1c49vanzR-FZ",
    "outputId": "ac0ec815-0ca4-4736-f3c4-bd33d173e11c"
   },
   "outputs": [
    {
     "name": "stdout",
     "output_type": "stream",
     "text": [
      "tensor([[2, 5, 8, 5],\n",
      "        [2, 9, 3, 2],\n",
      "        [6, 7, 2, 3],\n",
      "        [1, 8, 1, 4]])\n",
      "tensor([[2, 5, 8, 5, 2, 9, 3, 2],\n",
      "        [6, 7, 2, 3, 1, 8, 1, 4]])\n",
      "tensor([[2, 5],\n",
      "        [8, 5],\n",
      "        [2, 9],\n",
      "        [3, 2],\n",
      "        [6, 7],\n",
      "        [2, 3],\n",
      "        [1, 8],\n",
      "        [1, 4]])\n",
      "tensor([2, 5, 8, 5, 2, 9, 3, 2, 6, 7, 2, 3, 1, 8, 1, 4])\n"
     ]
    }
   ],
   "source": [
    "x = torch.LongTensor(4, 4).random_(10)\n",
    "print(x)\n",
    "\n",
    "# Turn it into a Tensor of shape (2, 8)\n",
    "y = x.view(2, 8)\n",
    "print(y)\n",
    "\n",
    "# Turn it into a Tensor of shape (8, ?).\n",
    "# The -1 is inferred from the shape of the Tensor.\n",
    "z = x.view(8, -1)\n",
    "print(z)\n",
    "\n",
    "# Turn it into a Tensor of shape (16,) (flatten it).\n",
    "# This is the same as x.view(16).\n",
    "flat = x.view(-1)\n",
    "print(flat)"
   ]
  },
  {
   "cell_type": "markdown",
   "metadata": {
    "Collapsed": "false",
    "colab_type": "text",
    "id": "zCMO9UqgVkS1"
   },
   "source": [
    "## Slicing and Indexing\n",
    "\n",
    "PyTorch follows the same conventions that NumPy uses for array slicing and indexing. [Here's a good intro to slicing and indexing in NumPy](http://www.scipy-lectures.org/intro/numpy/array_object.html#indexing-and-slicing)."
   ]
  },
  {
   "cell_type": "code",
   "execution_count": 15,
   "metadata": {
    "Collapsed": "false",
    "colab": {
     "base_uri": "https://localhost:8080/",
     "height": 204
    },
    "colab_type": "code",
    "id": "KlX0WJ9bWMGM",
    "outputId": "463cc4bc-2e2f-4c0b-96d5-c1ffb2c33ed2"
   },
   "outputs": [
    {
     "name": "stdout",
     "output_type": "stream",
     "text": [
      "tensor([[6, 1, 9, 7, 2],\n",
      "        [2, 0, 8, 0, 5],\n",
      "        [6, 3, 1, 7, 3]])\n",
      "First row:\n",
      "tensor([6, 1, 9, 7, 2])\n",
      "Last row:\n",
      "tensor([6, 3, 1, 7, 3])\n",
      "3rd column from left:\n",
      "tensor([9, 8, 1])\n",
      "Last column from left:\n",
      "tensor([2, 5, 3])\n"
     ]
    }
   ],
   "source": [
    "x = torch.LongTensor(3, 5).random_(10)\n",
    "print(x)\n",
    "\n",
    "# Get the first row\n",
    "print(\"First row:\")\n",
    "print(x[0])\n",
    "\n",
    "# Get the last row\n",
    "print(\"Last row:\")\n",
    "print(x[-1])\n",
    "\n",
    "# Get the 3rd column\n",
    "print(\"3rd column from left:\")\n",
    "print(x[:, 2])\n",
    "\n",
    "# Get the last column\n",
    "print(\"Last column from left:\")\n",
    "print(x[:, -1])"
   ]
  },
  {
   "cell_type": "markdown",
   "metadata": {
    "Collapsed": "false",
    "colab_type": "text",
    "id": "198ovrfWWkx6"
   },
   "source": [
    "Here's a slightly more complex example with a 3D Tensor --- slicing an indexing a 3D tensor is quite common in neural NLP, especially when dealing with the output of a recurrent neural network (RNN). The same slicing principles apply, though."
   ]
  },
  {
   "cell_type": "code",
   "execution_count": 16,
   "metadata": {
    "Collapsed": "false",
    "colab": {
     "base_uri": "https://localhost:8080/",
     "height": 374
    },
    "colab_type": "code",
    "id": "oAqxtUO-WvnY",
    "outputId": "514c49c1-7943-40c7-fcc3-136b88d4068c"
   },
   "outputs": [
    {
     "name": "stdout",
     "output_type": "stream",
     "text": [
      "tensor([[[ 6, 12,  8,  5,  7,  2,  5, 13,  0,  8],\n",
      "         [ 4,  3, 10, 10,  5,  2,  3,  7,  4,  1],\n",
      "         [13, 13,  7,  9,  1,  7,  6, 12, 10,  6],\n",
      "         [ 9,  0,  8,  3,  5,  8,  9,  1, 12,  5],\n",
      "         [ 1,  2,  5,  3,  2, 10, 12, 14,  3,  3]],\n",
      "\n",
      "        [[ 2, 12,  3,  4,  0,  0, 11, 11,  5,  1],\n",
      "         [ 6,  2,  7,  5,  7,  4,  5, 14, 14, 12],\n",
      "         [12,  1, 13,  5, 10,  2,  7, 10,  9, 14],\n",
      "         [14,  7,  8,  4, 12,  3,  3,  6, 12,  4],\n",
      "         [ 8,  1, 11, 12,  0, 13, 12, 14,  0, 14]],\n",
      "\n",
      "        [[ 2,  3,  6, 10,  8,  6,  9, 13,  6,  5],\n",
      "         [10, 13,  9,  6, 14, 13,  6,  4,  6,  4],\n",
      "         [ 3, 11,  6, 10,  6,  5, 11,  1, 11,  4],\n",
      "         [10,  9,  1,  5, 12,  7, 14,  3,  2, 14],\n",
      "         [ 3,  1, 11, 13,  3,  5,  2, 12, 11,  0]]])\n",
      "Final LSTM outputs for each example: \n",
      "tensor([[ 1,  2,  5,  3,  2, 10, 12, 14,  3,  3],\n",
      "        [ 8,  1, 11, 12,  0, 13, 12, 14,  0, 14],\n",
      "        [ 3,  1, 11, 13,  3,  5,  2, 12, 11,  0]])\n"
     ]
    }
   ],
   "source": [
    "# Shape of x is (batch_size, sequence_length, hidden_dim)\n",
    "# 3 is the batch size.\n",
    "# 5 is the sequence length of all examples in the batch.\n",
    "# 10 is the size of the RNN hidden state.\n",
    "x = torch.LongTensor(3, 5, 10).random_(15)\n",
    "print(x)\n",
    "\n",
    "# Get the last LSTM outputs for each example in the batch\n",
    "print(\"Final LSTM outputs for each example: \")\n",
    "print(x[:, -1, :])"
   ]
  },
  {
   "cell_type": "markdown",
   "metadata": {
    "Collapsed": "false",
    "colab_type": "text",
    "id": "KdMeqnLiovOk"
   },
   "source": [
    "# Using the GPU\n",
    "\n",
    "PyTorch allows you to easily move computations to the GPU --- just move the associated input tensors to the GPU with the `.cuda()` function."
   ]
  },
  {
   "cell_type": "markdown",
   "metadata": {
    "Collapsed": "false",
    "colab_type": "text",
    "id": "76uMYna9o_2K"
   },
   "source": [
    "Note that GPU and CPU tensors are fundamentally different types."
   ]
  },
  {
   "cell_type": "code",
   "execution_count": 18,
   "metadata": {
    "Collapsed": "false",
    "colab": {
     "base_uri": "https://localhost:8080/",
     "height": 51
    },
    "colab_type": "code",
    "id": "kYYELXQ5o7tU",
    "outputId": "a85a1f6b-61b6-4fea-b57f-24e49631e1ad"
   },
   "outputs": [
    {
     "name": "stdout",
     "output_type": "stream",
     "text": [
      "<class 'torch.Tensor'>\n",
      "<class 'torch.Tensor'>\n"
     ]
    }
   ],
   "source": [
    "if torch.cuda.is_available:\n",
    "  # Create a Tensor\n",
    "  x = torch.rand(3, 5)\n",
    "  print(type(x))\n",
    "\n",
    "  # Move it to the GPU\n",
    "  x_gpu = x.cuda()\n",
    "  print(type(x_gpu))"
   ]
  },
  {
   "cell_type": "markdown",
   "metadata": {
    "Collapsed": "false",
    "colab_type": "text",
    "id": "KjqQ4wLIp52S"
   },
   "source": [
    "If you're using a machine with a GPU, you can run `nvidia-smi` in bash to get GPU usage statistics. Below, you can see the type of GPU, the current memory usage, the amount of memory the GPU has, and the % of the GPU being used for computatation."
   ]
  },
  {
   "cell_type": "code",
   "execution_count": 19,
   "metadata": {
    "Collapsed": "false",
    "colab": {
     "base_uri": "https://localhost:8080/",
     "height": 357
    },
    "colab_type": "code",
    "id": "7xchx1H8p32n",
    "outputId": "cc6f2783-8a01-4e9a-aaba-1058819d52a0"
   },
   "outputs": [
    {
     "name": "stdout",
     "output_type": "stream",
     "text": [
      "Fri Jun 26 10:25:27 2020       \n",
      "+-----------------------------------------------------------------------------+\n",
      "| NVIDIA-SMI 418.87.01    Driver Version: 418.87.01    CUDA Version: 10.1     |\n",
      "|-------------------------------+----------------------+----------------------+\n",
      "| GPU  Name        Persistence-M| Bus-Id        Disp.A | Volatile Uncorr. ECC |\n",
      "| Fan  Temp  Perf  Pwr:Usage/Cap|         Memory-Usage | GPU-Util  Compute M. |\n",
      "|===============================+======================+======================|\n",
      "|   0  GeForce GTX TIT...  Off  | 00000000:03:00.0 Off |                  N/A |\n",
      "| 22%   59C    P2    74W / 250W |    420MiB / 12212MiB |      0%      Default |\n",
      "+-------------------------------+----------------------+----------------------+\n",
      "|   1  GeForce GTX TIT...  Off  | 00000000:81:00.0 Off |                  N/A |\n",
      "| 22%   55C    P8    17W / 250W |     11MiB / 12212MiB |      0%      Default |\n",
      "+-------------------------------+----------------------+----------------------+\n",
      "                                                                               \n",
      "+-----------------------------------------------------------------------------+\n",
      "| Processes:                                                       GPU Memory |\n",
      "|  GPU       PID   Type   Process name                             Usage      |\n",
      "|=============================================================================|\n",
      "|    0     31888      C   ...pengfei/miniconda3/envs/moel/bin/python   409MiB |\n",
      "+-----------------------------------------------------------------------------+\n"
     ]
    }
   ],
   "source": [
    "!nvidia-smi"
   ]
  },
  {
   "cell_type": "markdown",
   "metadata": {
    "Collapsed": "false",
    "colab_type": "text",
    "id": "2Ur47t88ubC9"
   },
   "source": [
    "Let's test out the GPU with a large matrix multiply!"
   ]
  },
  {
   "cell_type": "code",
   "execution_count": 20,
   "metadata": {
    "Collapsed": "false",
    "colab": {},
    "colab_type": "code",
    "id": "Um3FePM7uj14"
   },
   "outputs": [],
   "source": [
    "# Some test inputs\n",
    "test_input_one = torch.rand(1000, 9000)\n",
    "test_input_two = torch.rand(9000, 1000)"
   ]
  },
  {
   "cell_type": "code",
   "execution_count": 21,
   "metadata": {
    "Collapsed": "false",
    "colab": {
     "base_uri": "https://localhost:8080/",
     "height": 34
    },
    "colab_type": "code",
    "id": "rmdoOmS0vDWZ",
    "outputId": "36a82d08-5a81-4359-abfa-1fe89bc0faeb"
   },
   "outputs": [
    {
     "name": "stdout",
     "output_type": "stream",
     "text": [
      "22.3 ms ± 4.85 ms per loop (mean ± std. dev. of 7 runs, 10 loops each)\n"
     ]
    }
   ],
   "source": [
    "%%timeit\n",
    "test_input_one.mm(test_input_two)"
   ]
  },
  {
   "cell_type": "code",
   "execution_count": 22,
   "metadata": {
    "Collapsed": "false",
    "colab": {},
    "colab_type": "code",
    "id": "WWfNE_jIvS4H"
   },
   "outputs": [],
   "source": [
    "# Move to GPU\n",
    "import os\n",
    "using_GPU = os.path.exists('/opt/bin/nvidia-smi')\n",
    "if using_GPU:\n",
    "  gpu_test_input_one = test_input_one.cuda()\n",
    "  gpu_test_input_two = test_input_two.cuda()"
   ]
  },
  {
   "cell_type": "code",
   "execution_count": 23,
   "metadata": {
    "Collapsed": "false",
    "colab": {
     "base_uri": "https://localhost:8080/",
     "height": 51
    },
    "colab_type": "code",
    "id": "m7XISOVBvZIA",
    "outputId": "d629c939-5417-45c3-c87f-ec8599ebdf59"
   },
   "outputs": [
    {
     "name": "stdout",
     "output_type": "stream",
     "text": [
      "47.1 ns ± 2.29 ns per loop (mean ± std. dev. of 7 runs, 100 loops each)\n"
     ]
    }
   ],
   "source": [
    "%%timeit -n 100\n",
    "# This now automatically runs on the GPU!\n",
    "if using_GPU:\n",
    "  gpu_test_input_one.mm(gpu_test_input_two)"
   ]
  },
  {
   "cell_type": "markdown",
   "metadata": {
    "Collapsed": "false",
    "colab_type": "text",
    "id": "7AY55mDVwAEI"
   },
   "source": [
    "Using a GPU can give you massive speedups for tensor operations since most of them are easily parallelizable. Historically, the success of deep learning is inextricably tied to the ability to efficiently train the models on GPUs.\n",
    "\n",
    "To take advantage of this, **you want to be using PyTorch tensor operations almost everywhere** --- avoid explicitly iterating over tensors!"
   ]
  },
  {
   "cell_type": "markdown",
   "metadata": {
    "Collapsed": "false",
    "colab_type": "text",
    "id": "IE8RE8n5cUmJ"
   },
   "source": [
    "# Computation Graphs"
   ]
  },
  {
   "cell_type": "markdown",
   "metadata": {
    "Collapsed": "false",
    "colab_type": "text",
    "id": "I00992FzWysI"
   },
   "source": [
    "A computation graph is simply a way to define a sequence of operations to go from input to model output. \n",
    "\n",
    "You can think of the nodes in the graph as representing operations, and the edges in the graph represent tensors going in and out.\n",
    "\n",
    "For example, say we wanted to build a linear regression model. This has the form $\\hat y = Wx + b$. \n",
    "\n",
    "In this equation, $x$ is our input, $W$ is a learned weight matrix, $b$ is a learned bias, and $\\hat y$ is the predicted output. \n",
    "\n",
    "As a computation graph, this looks like:\n",
    "\n",
    "![Linear Regression Computation Graph](https://imgur.com/IcBhTjS.png)\n",
    "\n",
    "When implementing deep learning models, you're basically designing and specifying computation graphs. It's a bit like playing with Legos in that you're stringing together a bunch of blocks (the operations) to achieve a final desired output."
   ]
  },
  {
   "cell_type": "markdown",
   "metadata": {
    "Collapsed": "false",
    "colab_type": "text",
    "id": "fjkrXzQ3UDhy"
   },
   "source": [
    "# Tensors, Variables and Autograd"
   ]
  },
  {
   "cell_type": "markdown",
   "metadata": {
    "Collapsed": "false",
    "colab_type": "text",
    "id": "HF3x5x8RWUsT"
   },
   "source": [
    "One of PyTorch's key features (and what makes it a deep learning library) is the ability to specify arbitrary computation graphs and compute gradients on them automatically. For more detail, please see the official tutorial on grad at PyTorch: https://pytorch.org/tutorials/beginner/blitz/autograd_tutorial.html#sphx-glr-beginner-blitz-autograd-tutorial-py\n",
    "\n",
    "We can do this on Tensor objects. In older versions of PyTorch, we need to first wrap the tensor in a `Variable` and import `torch.autograd.Variable`. You will see this in tutorials still floating around the internet, hence I wanted to mention this notation as well.  Some things you can do: \n",
    "\n",
    "*   The data of the tensor (accessed with the `.data` member)\n",
    "*   The gradient with regards to this Variable (accessed with the `.grad` member)\n",
    "*   The function that created it (accessed with the `.grad_fn` member)\n",
    "\n",
    "For legacy purposes, I want to mention that you will sometimes see this: \n",
    "\n",
    "`x = Variable(torch.Tensor([1, 2, 3]), requires_grad=True)`\n",
    "\n",
    "In newer version of TyTorch can simply use: \n",
    "\n",
    "`x = torch.Tensor([1., 2., 3.], requires_grad=True)`\n"
   ]
  },
  {
   "cell_type": "code",
   "execution_count": 24,
   "metadata": {
    "Collapsed": "false",
    "colab": {
     "base_uri": "https://localhost:8080/",
     "height": 68
    },
    "colab_type": "code",
    "id": "XP5GOtjkWTsh",
    "outputId": "25f71fe1-9efb-42af-8992-e34c8883ad94"
   },
   "outputs": [
    {
     "name": "stdout",
     "output_type": "stream",
     "text": [
      "tensor([1., 2., 3.])\n",
      "tensor([5., 7., 9.])\n",
      "<AddBackward0 object at 0x7f521ce558d0>\n"
     ]
    }
   ],
   "source": [
    "x = torch.tensor([1., 2., 3.], requires_grad=True)\n",
    "# You can access the underlying tensor with the .data attribute\n",
    "print(x.data)\n",
    "\n",
    "# Any operation you could use on Tensors, you can use on the legacy Variables\n",
    "y = torch.tensor([4., 5., 6.], requires_grad=True)\n",
    "z = x + y\n",
    "print(z.data)\n",
    "\n",
    "# But z also stores where it came from!\n",
    "print(z.grad_fn)"
   ]
  },
  {
   "cell_type": "markdown",
   "metadata": {
    "Collapsed": "false",
    "colab_type": "text",
    "id": "D7b-U3Mfr-Px"
   },
   "source": [
    "A note on the `requires_grad` argument: with most NN code, you don’t want to set `requires_grad=True` unless you explicitly want the gradient w.r.t. to your input. In this example, however, `requires_grad=True` is necessary because otherwise there would be no gradients to compute, since there are no model parameters."
   ]
  },
  {
   "cell_type": "markdown",
   "metadata": {
    "Collapsed": "false",
    "colab_type": "text",
    "id": "_hEy7CvTsaZw"
   },
   "source": [
    "Let's do some more operations and calculate the gradient."
   ]
  },
  {
   "cell_type": "code",
   "execution_count": 25,
   "metadata": {
    "Collapsed": "false",
    "colab": {
     "base_uri": "https://localhost:8080/",
     "height": 51
    },
    "colab_type": "code",
    "id": "WPYWL4pOsfmD",
    "outputId": "265412a8-102f-438b-b9cb-a6924f039921"
   },
   "outputs": [
    {
     "name": "stdout",
     "output_type": "stream",
     "text": [
      "tensor(21., grad_fn=<SumBackward0>)\n",
      "<SumBackward0 object at 0x7f521ce57e90>\n"
     ]
    }
   ],
   "source": [
    "z_sum = torch.sum(z)\n",
    "print(z_sum)\n",
    "print(z_sum.grad_fn)"
   ]
  },
  {
   "cell_type": "markdown",
   "metadata": {
    "Collapsed": "false",
    "colab_type": "text",
    "id": "e8acGLAcs2Bt"
   },
   "source": [
    "Say we want to calculate the derivative of the sum w.r.t. the \n",
    "first element of x (in math,  $\\frac{\\partial z_{sum}}{\\partial x_0}$).\n",
    "\n",
    "Autograd knows that: $$ z_{sum} = x_0 + y_0 + x_1 + y_1 + x_2 + y_2$$\n",
    "\n",
    "So the derivative of $z_{sum}$ w.r.t $x_0$ is 1! Similarily, the derivative to all elements of $x$ is 1. Let's verify this with autograd."
   ]
  },
  {
   "cell_type": "code",
   "execution_count": 26,
   "metadata": {
    "Collapsed": "false",
    "colab": {
     "base_uri": "https://localhost:8080/",
     "height": 34
    },
    "colab_type": "code",
    "id": "VHSS5QnxteVO",
    "outputId": "5f47223d-39de-42e2-ba85-7aa177e8f1df"
   },
   "outputs": [
    {
     "name": "stdout",
     "output_type": "stream",
     "text": [
      "tensor([1., 1., 1.])\n"
     ]
    }
   ],
   "source": [
    "# Backprop from s backwards into the grpah\n",
    "# It'll follow the chain of computation by going from grad_fn to grad_fn\n",
    "# until it reaches the input.\n",
    "z_sum.backward()\n",
    "print(x.grad)"
   ]
  },
  {
   "cell_type": "markdown",
   "metadata": {
    "Collapsed": "false",
    "colab_type": "text",
    "id": "h2eAbqOxt2e9"
   },
   "source": [
    "Try running the block above multiple times! What do you notice happening?\n",
    "\n",
    "**The gradient in `.grad` accumulates each time we call `.backward()`** --- this is convenient for some models, but we'll usually want to zero the gradient before running backpropagation when we're training our models (more on this later).\n",
    "\n",
    "In most models we build, we'll generally want to explicitly zero-out the gradients (details forthcoming) before calling `.backward()`"
   ]
  },
  {
   "cell_type": "markdown",
   "metadata": {
    "Collapsed": "false",
    "colab_type": "text",
    "id": "RZNnUJcrU2r2"
   },
   "source": [
    "# Structuring PyTorch models\n",
    "\n",
    "At the highest level, `nn.Module` defines what most would refer to as a \"model\". It's a convenient way for encapsulating the trainable parameters of a model or a component of your model, and subclassing this class gives you Python functions for moving your model to the GPU, saving it, loading it etc.\n",
    "\n",
    "When you're building your own model, you're going to subclass `nn.Module`. Critically, you also need to override the `__init__()` and `forward()` functions.\n",
    "\n",
    "*   In `__init__()`, you should take arguments that modify how the model runs (e.g. # of layers, # of hidden units, output sizes). You'll also set up most of the layers that you use in the forward pass here.\n",
    "*   In `forward()`, you define the \"forward pass\" of your model, or the operations needed to transform input to output. **You can use any of the Tensor operations in the forward pass.**\n",
    "\n"
   ]
  },
  {
   "cell_type": "markdown",
   "metadata": {
    "Collapsed": "false",
    "colab_type": "text",
    "id": "6bxeOKmLWDly"
   },
   "source": [
    "### A simple example `Module` : Logistic Regression\n",
    "\n",
    "As a simple example of how to make a Module, let's build a logistic regression model.\n",
    "\n",
    "Logistic regression takes an input $x$ and applies a linear transform to squash the input down to a probability distribution over the number of classification classes. If you recall from the lecture, we start with a linear regression model based on the input variables, which is then put into a logistic sigmoid function. As a module, this looks like:"
   ]
  },
  {
   "cell_type": "code",
   "execution_count": 27,
   "metadata": {
    "Collapsed": "false",
    "colab": {},
    "colab_type": "code",
    "id": "H4OWZ0B1zpr3"
   },
   "outputs": [],
   "source": [
    "import torch.nn as nn\n",
    "import torch.nn.functional as F\n",
    "\n",
    "class LogisticRegression(nn.Module):\n",
    "  # input_size: Dimensionality of input feature vector.\n",
    "  # num_classes: The number of classes in the classification problem.\n",
    "  def __init__(self, input_size, num_classes):\n",
    "    # Always call the superclass (nn.Module) constructor first!\n",
    "    super(LogisticRegression, self).__init__()\n",
    "    # Set up the linear transform\n",
    "    self.linear = nn.Linear(input_size, num_classes)\n",
    "    # I do not yet include the sigmoid activation after the linear \n",
    "    # layer because our loss function will include this as you will see later\n",
    "\n",
    "  # Forward's sole argument is the input.\n",
    "  # input is of shape (batch_size, input_size)\n",
    "  def forward(self, x):\n",
    "    # Apply the linear transform.\n",
    "    # out is of shape (batch_size, num_classes). \n",
    "    out = self.linear(x)\n",
    "    out = torch.sigmoid(out)\n",
    "    # Softmax the out tensor to get a log-probability distribution\n",
    "    # over classes for each example.\n",
    "    return out"
   ]
  },
  {
   "cell_type": "markdown",
   "metadata": {
    "Collapsed": "false",
    "colab_type": "text",
    "id": "7RZlH4EY1BIY"
   },
   "source": [
    "Modules are also callable! As a result, we can do the following to apply them to an input. Note how the number of features determines the size of the linear layer above. "
   ]
  },
  {
   "cell_type": "code",
   "execution_count": 28,
   "metadata": {
    "Collapsed": "false",
    "colab": {
     "base_uri": "https://localhost:8080/",
     "height": 68
    },
    "colab_type": "code",
    "id": "E3n2DoVt1H8k",
    "outputId": "c55cd56f-57fc-43fa-fc74-879ea019b267"
   },
   "outputs": [
    {
     "name": "stdout",
     "output_type": "stream",
     "text": [
      "LogisticRegression(\n",
      "  (linear): Linear(in_features=2, out_features=1, bias=True)\n",
      ")\n"
     ]
    }
   ],
   "source": [
    "# Binary classifiation\n",
    "num_outputs = 1\n",
    "num_input_features = 2\n",
    "\n",
    "# Create the logistic regression model\n",
    "logreg_clf = LogisticRegression(num_input_features, num_outputs)\n",
    "\n",
    "print(logreg_clf)"
   ]
  },
  {
   "cell_type": "markdown",
   "metadata": {
    "Collapsed": "false",
    "colab_type": "text",
    "id": "7ynjaIvgIlgk"
   },
   "source": [
    "We set a learning rate a select the gradient descent optimizer to train the model. For a super small example, we manually define a training and test set for the XOR problem. "
   ]
  },
  {
   "cell_type": "code",
   "execution_count": 29,
   "metadata": {
    "Collapsed": "false",
    "colab": {
     "base_uri": "https://localhost:8080/",
     "height": 85
    },
    "colab_type": "code",
    "id": "OcItrPEnIluy",
    "outputId": "ff0df069-47bf-47d8-ba81-9540ac63731a"
   },
   "outputs": [
    {
     "name": "stdout",
     "output_type": "stream",
     "text": [
      "tensor([[0., 0.],\n",
      "        [0., 1.],\n",
      "        [1., 0.],\n",
      "        [1., 1.]])\n"
     ]
    }
   ],
   "source": [
    "import torch \n",
    "lr_rate = 0.001  # alpha\n",
    "\n",
    "# training set of input X and labels Y\n",
    "X = torch.Tensor([[0,0],[0,1], [1,0], [1,1]])\n",
    "Y = torch.Tensor([0,1,1,0]).view(-1,1) #view is similar to numpy.reshape() here it makes it into a column\n",
    "\n",
    "# Run the forward pass of the logistic regression model\n",
    "sample_output = logreg_clf(X) #completely random at the moment\n",
    "print(X)\n",
    "\n",
    "loss_function = nn.BCELoss() \n",
    "# SGD: stochastic gradient descent is used to train/fit the model\n",
    "optimizer = torch.optim.SGD(logreg_clf.parameters(), lr=lr_rate)"
   ]
  },
  {
   "cell_type": "markdown",
   "metadata": {
    "Collapsed": "false",
    "colab_type": "text",
    "id": "FG1SaCwJJUCq"
   },
   "source": [
    "Now we can train!\n",
    "\n",
    "Take a moment to study what is happening here. This process will keep coming back. "
   ]
  },
  {
   "cell_type": "code",
   "execution_count": 30,
   "metadata": {
    "Collapsed": "false",
    "colab": {
     "base_uri": "https://localhost:8080/",
     "height": 156
    },
    "colab_type": "code",
    "id": "wd7fDCWsJUKP",
    "outputId": "1912a6ff-bc8f-4312-c50a-a34ae4c4bdff"
   },
   "outputs": [
    {
     "name": "stderr",
     "output_type": "stream",
     "text": [
      "/home/pengfei/miniconda3/envs/moel/lib/python3.7/site-packages/torch/nn/modules/loss.py:498: UserWarning: Using a target size (torch.Size([1])) that is different to the input size (torch.Size([1, 1])) is deprecated. Please ensure they have the same size.\n",
      "  return F.binary_cross_entropy(input, target, weight=self.weight, reduction=self.reduction)\n"
     ]
    },
    {
     "name": "stdout",
     "output_type": "stream",
     "text": [
      "Epoch: 0, Loss: 1.0997190475463867, \n",
      "Epoch: 500, Loss: 0.5853044986724854, \n",
      "Epoch: 1000, Loss: 0.5878609418869019, \n",
      "Epoch: 1500, Loss: 0.6639280319213867, \n",
      "Epoch: 2000, Loss: 0.825874388217926, \n"
     ]
    }
   ],
   "source": [
    "import numpy as np \n",
    "# from torch.autograd import Variable\n",
    "\n",
    "#training loop:\n",
    "\n",
    "epochs = 2001 #how many times we go through the training set\n",
    "steps = X.size(0) #steps = 4; we have 4 training examples (I know, tiny training set :)\n",
    "\n",
    "for i in range(epochs):\n",
    "    for j in range(steps):\n",
    "        # randomly sample from the training set:\n",
    "        data_point = np.random.randint(X.size(0))\n",
    "        # store the retrieved datapoint into 2 separate variables of the right shape\n",
    "        x_var = torch.Tensor(X[data_point]).unsqueeze(0)\n",
    "        y_var = torch.Tensor(Y[data_point])\n",
    "        \n",
    "        optimizer.zero_grad() # empty (zero) the gradient buffers\n",
    "        y_hat = logreg_clf(x_var) #get the output from the model\n",
    "\n",
    "        loss = loss_function(y_hat, y_var) #calculate the loss\n",
    "        loss.backward() #backprop\n",
    "        optimizer.step() #does the update\n",
    "\n",
    "    if i % 500 == 0:\n",
    "        print (\"Epoch: {0}, Loss: {1}, \".format(i, loss.data.numpy()))"
   ]
  },
  {
   "cell_type": "markdown",
   "metadata": {
    "Collapsed": "false",
    "colab_type": "text",
    "id": "BHSlettsMLF9"
   },
   "source": [
    "As expected the loss remains high. XOR needs a non-linear model to work well (or, a feature engineering trick: add a third input feature: $x_1 * x_2$). Next week, we'll tackle this properly with neural networks...\n",
    "\n",
    "Below you can experiment how badly it works :)\n"
   ]
  },
  {
   "cell_type": "code",
   "execution_count": 31,
   "metadata": {
    "Collapsed": "false",
    "colab": {
     "base_uri": "https://localhost:8080/",
     "height": 85
    },
    "colab_type": "code",
    "id": "3zKUydFc3idW",
    "outputId": "67370a62-d57e-4d38-977f-9cfa939a2b54"
   },
   "outputs": [
    {
     "name": "stdout",
     "output_type": "stream",
     "text": [
      "0 xor 0 = 1\n",
      "0 xor 1 = 0\n",
      "1 xor 1 = 0\n",
      "1 xor 0 = 1\n"
     ]
    }
   ],
   "source": [
    "test = [[0,0],[0,1],[1,1],[1,0]]\n",
    "\n",
    "for trial in test: \n",
    "  Xtest = torch.Tensor(trial)\n",
    "  y_hat = logreg_clf(Xtest)\n",
    "  \n",
    "  if y_hat > 0.5:\n",
    "    prediction = 1\n",
    "  else: \n",
    "    prediction = 0\n",
    "  # prediction = np.argmax(y_hat.detach().numpy, axis=0)\n",
    "  print(\"{0} xor {1} = {2}\".format(int(Xtest[0]), int(Xtest[1]), prediction))\n",
    "\n"
   ]
  },
  {
   "cell_type": "code",
   "execution_count": null,
   "metadata": {
    "Collapsed": "false",
    "colab": {},
    "colab_type": "code",
    "id": "zmGINhsWSNDX"
   },
   "outputs": [],
   "source": []
  }
 ],
 "metadata": {
  "accelerator": "GPU",
  "colab": {
   "collapsed_sections": [
    "mgs23T03xBK7",
    "Jf9cLN-1GCao",
    "Lx_j18ospHiv",
    "zCMO9UqgVkS1",
    "KdMeqnLiovOk",
    "fjkrXzQ3UDhy"
   ],
   "name": "AI class - PyTorch - Tensors, grad, and logistic regression",
   "provenance": [],
   "toc_visible": true
  },
  "kernelspec": {
   "display_name": "Python 3",
   "language": "python",
   "name": "python3"
  },
  "language_info": {
   "codemirror_mode": {
    "name": "ipython",
    "version": 3
   },
   "file_extension": ".py",
   "mimetype": "text/x-python",
   "name": "python",
   "nbconvert_exporter": "python",
   "pygments_lexer": "ipython3",
   "version": "3.7.6"
  }
 },
 "nbformat": 4,
 "nbformat_minor": 4
}
