{
 "cells": [
  {
   "cell_type": "markdown",
   "metadata": {},
   "source": [
    "# Coding Homework - Week 2"
   ]
  },
  {
   "cell_type": "markdown",
   "metadata": {},
   "source": [
    "## Name: **Hong Pengfei**\n",
    "## Student ID: **1002949**"
   ]
  },
  {
   "cell_type": "code",
   "execution_count": 1,
   "metadata": {},
   "outputs": [],
   "source": [
    "from search import *\n",
    "from functools import partial"
   ]
  },
  {
   "cell_type": "markdown",
   "metadata": {},
   "source": [
    "## Problem 1"
   ]
  },
  {
   "cell_type": "code",
   "execution_count": 2,
   "metadata": {},
   "outputs": [],
   "source": [
    "WORDS = set(i.lower().strip() for i in open('words2.txt'))\n",
    "def is_valid_word(word): return word in WORDS\n",
    "def change_string(old_string, character, index): return old_string[:index] + character + old_string[index+1:]"
   ]
  },
  {
   "cell_type": "code",
   "execution_count": 3,
   "metadata": {},
   "outputs": [],
   "source": [
    "class WordLadders(Problem):\n",
    "    \n",
    "    def __init__(self, initial, goal):\n",
    "        super().__init__(initial, goal)\n",
    "        \n",
    "    def actions(self, state):\n",
    "        action_list = []\n",
    "        for i in range(len(state)):\n",
    "            for l in string.ascii_lowercase:\n",
    "                changed_string = change_string(state, l, i)\n",
    "                if is_valid_word(changed_string):\n",
    "                    action_list.append(f\"Change {state} with {changed_string}\")\n",
    "                    \n",
    "        return action_list\n",
    "    \n",
    "    def result(self, state, action):\n",
    "        return action.split()[-1]"
   ]
  },
  {
   "cell_type": "code",
   "execution_count": 4,
   "metadata": {},
   "outputs": [
    {
     "data": {
      "text/plain": [
       "['Change cars with cats']"
      ]
     },
     "execution_count": 4,
     "metadata": {},
     "output_type": "execute_result"
    }
   ],
   "source": [
    "wl = WordLadders(\"cars\", \"cats\")\n",
    "node = breadth_first_search(wl)\n",
    "# node = uniform_cost_search(wl)\n",
    "node.solution()"
   ]
  },
  {
   "cell_type": "code",
   "execution_count": 5,
   "metadata": {},
   "outputs": [
    {
     "data": {
      "text/plain": [
       "['Change cold with cord',\n",
       " 'Change cord with word',\n",
       " 'Change word with ward',\n",
       " 'Change ward with warm']"
      ]
     },
     "execution_count": 5,
     "metadata": {},
     "output_type": "execute_result"
    }
   ],
   "source": [
    "wl = WordLadders(\"cold\", \"warm\")\n",
    "node = breadth_first_search(wl)\n",
    "node.solution()"
   ]
  },
  {
   "cell_type": "code",
   "execution_count": 6,
   "metadata": {},
   "outputs": [
    {
     "data": {
      "text/plain": [
       "['Change best with bast',\n",
       " 'Change bast with mast',\n",
       " 'Change mast with mash',\n",
       " 'Change mash with math']"
      ]
     },
     "execution_count": 6,
     "metadata": {},
     "output_type": "execute_result"
    }
   ],
   "source": [
    "wl = WordLadders(\"best\", \"math\")\n",
    "node = breadth_first_search(wl)\n",
    "node.solution()"
   ]
  },
  {
   "cell_type": "markdown",
   "metadata": {},
   "source": [
    "## Problem 2"
   ]
  },
  {
   "cell_type": "markdown",
   "metadata": {},
   "source": [
    "### Part 1: state\n",
    "- Current City and current time is a good choice of state"
   ]
  },
  {
   "cell_type": "markdown",
   "metadata": {},
   "source": [
    "### Part 2:"
   ]
  },
  {
   "cell_type": "code",
   "execution_count": 7,
   "metadata": {},
   "outputs": [
    {
     "name": "stdout",
     "output_type": "stream",
     "text": [
      "Flights\n",
      "('Rome', 1) -> ('Paris', 4)\n",
      "('Rome', 3) -> ('Madrid', 5)\n",
      "('Rome', 5) -> ('Istanbul', 10)\n",
      "('Paris', 2) -> ('London', 4)\n",
      "('Paris', 5) -> ('Oslo', 7)\n",
      "('Paris', 5) -> ('Istanbul', 9)\n",
      "('Madrid', 7) -> ('Rabat', 10)\n",
      "('Madrid', 8) -> ('London', 10)\n",
      "('Istanbul', 10) -> ('Constantinople', 10)\n"
     ]
    }
   ],
   "source": [
    "class Flight:\n",
    "    def __init__(self, start_city, start_time, end_city, end_time):\n",
    "        self.start_city = start_city\n",
    "        self.start_time = start_time\n",
    "        self.end_city = end_city\n",
    "        self.end_time = end_time\n",
    "    \n",
    "    def __str__(self):\n",
    "        return str((self.start_city, self.start_time)) + ' -> ' + str((self.end_city, self.end_time))\n",
    "    __repr__ = __str__\n",
    "    \n",
    "    def contained(self, inputs):\n",
    "        city, time = inputs\n",
    "        return city == self.start_city and time <= self.start_time\n",
    "    \n",
    "flightDB = [\n",
    "    Flight('Rome', 1, 'Paris', 4),\n",
    "    Flight('Rome', 3, 'Madrid', 5),\n",
    "    Flight('Rome', 5, 'Istanbul', 10),\n",
    "    Flight('Paris', 2, 'London', 4),\n",
    "    Flight('Paris', 5, 'Oslo', 7),\n",
    "    Flight('Paris', 5, 'Istanbul', 9),\n",
    "    Flight('Madrid', 7, 'Rabat', 10),\n",
    "    Flight('Madrid', 8, 'London', 10),\n",
    "    Flight('Istanbul', 10, 'Constantinople', 10)\n",
    "]\n",
    "\n",
    "print(\"Flights\")\n",
    "for f in flightDB:\n",
    "    print(f)"
   ]
  },
  {
   "cell_type": "markdown",
   "metadata": {},
   "source": [
    "### Part 3"
   ]
  },
  {
   "cell_type": "code",
   "execution_count": 8,
   "metadata": {},
   "outputs": [],
   "source": [
    "class Itinerary(Problem):\n",
    "    \n",
    "    def __init__(self, initial, goal):\n",
    "        super().__init__(initial, goal)\n",
    "        \n",
    "    def actions(self, state):\n",
    "        action_list = []\n",
    "        for f in flightDB:\n",
    "            if f.contained(state):\n",
    "                action_list.append(f)\n",
    "        return action_list\n",
    "    \n",
    "    def result(self, state, action):\n",
    "        return (action.end_city, action.end_time)\n",
    "    \n",
    "    def goal_test(self, state):\n",
    "        current_city, current_time = state\n",
    "        goal_city, goal_time = self.goal\n",
    "        return current_city == goal_city and current_time <= goal_time\n",
    "    \n",
    "def find_itinerary(start_city, start_time, end_city, deadline):\n",
    "    itinerary = Itinerary( (start_city,start_time), (end_city,deadline) )\n",
    "    node = breadth_first_search(itinerary)\n",
    "    if not node: return None\n",
    "    return node.solution()"
   ]
  },
  {
   "cell_type": "code",
   "execution_count": 9,
   "metadata": {},
   "outputs": [
    {
     "data": {
      "text/plain": [
       "[('Rome', 5) -> ('Istanbul', 10), ('Istanbul', 10) -> ('Constantinople', 10)]"
      ]
     },
     "execution_count": 9,
     "metadata": {},
     "output_type": "execute_result"
    }
   ],
   "source": [
    "find_itinerary('Rome', 0, 'Constantinople', 10)"
   ]
  },
  {
   "cell_type": "markdown",
   "metadata": {},
   "source": [
    "### Part 4\n",
    "- Ben's solution will work assuming the time is discrete. it will take around  $2x$ calls"
   ]
  },
  {
   "cell_type": "markdown",
   "metadata": {},
   "source": [
    "### Normal Solution"
   ]
  },
  {
   "cell_type": "code",
   "execution_count": 10,
   "metadata": {},
   "outputs": [],
   "source": [
    "def find_shortest_itinerary(start_city, end_city):\n",
    "    start_time = 1\n",
    "    deadline = 1\n",
    "    solution = None\n",
    "    while not solution:\n",
    "        solution = find_itinerary(start_city, start_time, end_city, deadline)\n",
    "        deadline += 1\n",
    "    return solution"
   ]
  },
  {
   "cell_type": "code",
   "execution_count": 11,
   "metadata": {},
   "outputs": [
    {
     "data": {
      "text/plain": [
       "[('Rome', 5) -> ('Istanbul', 10), ('Istanbul', 10) -> ('Constantinople', 10)]"
      ]
     },
     "execution_count": 11,
     "metadata": {},
     "output_type": "execute_result"
    }
   ],
   "source": [
    "find_shortest_itinerary('Rome', 'Constantinople')"
   ]
  },
  {
   "cell_type": "markdown",
   "metadata": {},
   "source": [
    "### optimized solution: time complexity should be O(logn)"
   ]
  },
  {
   "cell_type": "code",
   "execution_count": 12,
   "metadata": {},
   "outputs": [],
   "source": [
    "def find_shortest_itinerary(start_city, end_city):\n",
    "    start_time = 1\n",
    "    deadline = 1\n",
    "    sol = None\n",
    "    while not sol:\n",
    "        sol = find_itinerary(start_city, start_time, end_city, deadline)\n",
    "        deadline *= 2\n",
    "    \n",
    "    deadline_l = deadline // 2\n",
    "    deadline_h = deadline\n",
    "    deadline = (deadline_h + deadline_l) // 2\n",
    "    while deadline_h > deadline_l:\n",
    "        sol = find_itinerary(start_city, start_time, end_city, deadline)\n",
    "        if not sol:\n",
    "            deadline_h = deadline - 1\n",
    "        else:\n",
    "            deadline_l = deadline + 1\n",
    "        deadline = (deadline_h + deadline_l) // 2\n",
    "        \n",
    "    return sol"
   ]
  },
  {
   "cell_type": "code",
   "execution_count": 13,
   "metadata": {},
   "outputs": [
    {
     "data": {
      "text/plain": [
       "[('Rome', 5) -> ('Istanbul', 10), ('Istanbul', 10) -> ('Constantinople', 10)]"
      ]
     },
     "execution_count": 13,
     "metadata": {},
     "output_type": "execute_result"
    }
   ],
   "source": [
    "find_shortest_itinerary('Rome', 'Constantinople')"
   ]
  }
 ],
 "metadata": {
  "kernelspec": {
   "display_name": "Python 3",
   "language": "python",
   "name": "python3"
  },
  "language_info": {
   "codemirror_mode": {
    "name": "ipython",
    "version": 3
   },
   "file_extension": ".py",
   "mimetype": "text/x-python",
   "name": "python",
   "nbconvert_exporter": "python",
   "pygments_lexer": "ipython3",
   "version": "3.7.3"
  }
 },
 "nbformat": 4,
 "nbformat_minor": 4
}
